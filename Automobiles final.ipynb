{
 "cells": [
  {
   "cell_type": "markdown",
   "metadata": {},
   "source": [
    "A German car company wants to enter the US Market by setting up their manufacturing unit there \n",
    "and producing cars locally to give competition to their US and European counterparts. They want to understand the factors affecting the pricing of cars in the American market, since those may be very different from the German market.\n",
    "\n",
    "\n"
   ]
  },
  {
   "cell_type": "code",
   "execution_count": 1,
   "metadata": {},
   "outputs": [],
   "source": [
    "#supress warnings\n",
    "import warnings\n",
    "warnings.filterwarnings('ignore')"
   ]
  },
  {
   "cell_type": "code",
   "execution_count": 2,
   "metadata": {},
   "outputs": [],
   "source": [
    "### Importing the packages\n",
    "import numpy as np\n",
    "import pandas as pd\n",
    "import matplotlib.pyplot as plt\n",
    "import seaborn as sns"
   ]
  },
  {
   "cell_type": "code",
   "execution_count": 3,
   "metadata": {},
   "outputs": [],
   "source": [
    "#Reading csv file\n",
    "car = pd.read_csv('Cars.csv')"
   ]
  },
  {
   "cell_type": "code",
   "execution_count": 5,
   "metadata": {},
   "outputs": [
    {
     "name": "stdout",
     "output_type": "stream",
     "text": [
      "<class 'pandas.core.frame.DataFrame'>\n",
      "RangeIndex: 205 entries, 0 to 204\n",
      "Data columns (total 26 columns):\n",
      " #   Column            Non-Null Count  Dtype  \n",
      "---  ------            --------------  -----  \n",
      " 0   car_ID            205 non-null    int64  \n",
      " 1   symboling         205 non-null    int64  \n",
      " 2   CarName           205 non-null    object \n",
      " 3   fueltype          205 non-null    object \n",
      " 4   aspiration        205 non-null    object \n",
      " 5   doornumber        205 non-null    object \n",
      " 6   carbody           205 non-null    object \n",
      " 7   drivewheel        205 non-null    object \n",
      " 8   enginelocation    205 non-null    object \n",
      " 9   wheelbase         205 non-null    float64\n",
      " 10  carlength         205 non-null    float64\n",
      " 11  carwidth          205 non-null    float64\n",
      " 12  carheight         205 non-null    float64\n",
      " 13  curbweight        205 non-null    int64  \n",
      " 14  enginetype        205 non-null    object \n",
      " 15  cylindernumber    205 non-null    object \n",
      " 16  enginesize        205 non-null    int64  \n",
      " 17  fuelsystem        205 non-null    object \n",
      " 18  boreratio         205 non-null    float64\n",
      " 19  stroke            205 non-null    float64\n",
      " 20  compressionratio  205 non-null    float64\n",
      " 21  horsepower        205 non-null    int64  \n",
      " 22  peakrpm           205 non-null    int64  \n",
      " 23  citympg           205 non-null    int64  \n",
      " 24  highwaympg        205 non-null    int64  \n",
      " 25  price             205 non-null    float64\n",
      "dtypes: float64(8), int64(8), object(10)\n",
      "memory usage: 41.8+ KB\n"
     ]
    }
   ],
   "source": [
    "#checking the dataset details\n",
    "car.info()"
   ]
  },
  {
   "cell_type": "code",
   "execution_count": 6,
   "metadata": {
    "scrolled": true
   },
   "outputs": [
    {
     "data": {
      "text/plain": [
       "car_ID              0\n",
       "symboling           0\n",
       "CarName             0\n",
       "fueltype            0\n",
       "aspiration          0\n",
       "doornumber          0\n",
       "carbody             0\n",
       "drivewheel          0\n",
       "enginelocation      0\n",
       "wheelbase           0\n",
       "carlength           0\n",
       "carwidth            0\n",
       "carheight           0\n",
       "curbweight          0\n",
       "enginetype          0\n",
       "cylindernumber      0\n",
       "enginesize          0\n",
       "fuelsystem          0\n",
       "boreratio           0\n",
       "stroke              0\n",
       "compressionratio    0\n",
       "horsepower          0\n",
       "peakrpm             0\n",
       "citympg             0\n",
       "highwaympg          0\n",
       "price               0\n",
       "dtype: int64"
      ]
     },
     "execution_count": 6,
     "metadata": {},
     "output_type": "execute_result"
    }
   ],
   "source": [
    "#checking for missing values\n",
    "car.isnull().sum()"
   ]
  },
  {
   "cell_type": "markdown",
   "metadata": {},
   "source": [
    "##### There are no null"
   ]
  },
  {
   "cell_type": "markdown",
   "metadata": {},
   "source": []
  },
  {
   "cell_type": "code",
   "execution_count": 10,
   "metadata": {},
   "outputs": [],
   "source": [
    "# Making a list of unique Car Names\n",
    "ar = car['CarName'].unique()\n",
    "lst = ar.tolist()"
   ]
  },
  {
   "cell_type": "code",
   "execution_count": 8,
   "metadata": {},
   "outputs": [
    {
     "data": {
      "text/plain": [
       "147"
      ]
     },
     "execution_count": 8,
     "metadata": {},
     "output_type": "execute_result"
    }
   ],
   "source": [
    "len(lst)"
   ]
  },
  {
   "cell_type": "markdown",
   "metadata": {},
   "source": [
    "### Extracting the Car Company names from The Car names"
   ]
  },
  {
   "cell_type": "code",
   "execution_count": 11,
   "metadata": {},
   "outputs": [],
   "source": [
    "comp_name = car['CarName'].str.split(' ',n=1,expand=True)"
   ]
  },
  {
   "cell_type": "code",
   "execution_count": 12,
   "metadata": {},
   "outputs": [
    {
     "data": {
      "text/html": [
       "<div>\n",
       "<style scoped>\n",
       "    .dataframe tbody tr th:only-of-type {\n",
       "        vertical-align: middle;\n",
       "    }\n",
       "\n",
       "    .dataframe tbody tr th {\n",
       "        vertical-align: top;\n",
       "    }\n",
       "\n",
       "    .dataframe thead th {\n",
       "        text-align: right;\n",
       "    }\n",
       "</style>\n",
       "<table border=\"1\" class=\"dataframe\">\n",
       "  <thead>\n",
       "    <tr style=\"text-align: right;\">\n",
       "      <th></th>\n",
       "      <th>0</th>\n",
       "      <th>1</th>\n",
       "    </tr>\n",
       "  </thead>\n",
       "  <tbody>\n",
       "    <tr>\n",
       "      <th>0</th>\n",
       "      <td>alfa-romero</td>\n",
       "      <td>giulia</td>\n",
       "    </tr>\n",
       "    <tr>\n",
       "      <th>1</th>\n",
       "      <td>alfa-romero</td>\n",
       "      <td>stelvio</td>\n",
       "    </tr>\n",
       "    <tr>\n",
       "      <th>2</th>\n",
       "      <td>alfa-romero</td>\n",
       "      <td>Quadrifoglio</td>\n",
       "    </tr>\n",
       "    <tr>\n",
       "      <th>3</th>\n",
       "      <td>audi</td>\n",
       "      <td>100 ls</td>\n",
       "    </tr>\n",
       "    <tr>\n",
       "      <th>4</th>\n",
       "      <td>audi</td>\n",
       "      <td>100ls</td>\n",
       "    </tr>\n",
       "    <tr>\n",
       "      <th>...</th>\n",
       "      <td>...</td>\n",
       "      <td>...</td>\n",
       "    </tr>\n",
       "    <tr>\n",
       "      <th>200</th>\n",
       "      <td>volvo</td>\n",
       "      <td>145e (sw)</td>\n",
       "    </tr>\n",
       "    <tr>\n",
       "      <th>201</th>\n",
       "      <td>volvo</td>\n",
       "      <td>144ea</td>\n",
       "    </tr>\n",
       "    <tr>\n",
       "      <th>202</th>\n",
       "      <td>volvo</td>\n",
       "      <td>244dl</td>\n",
       "    </tr>\n",
       "    <tr>\n",
       "      <th>203</th>\n",
       "      <td>volvo</td>\n",
       "      <td>246</td>\n",
       "    </tr>\n",
       "    <tr>\n",
       "      <th>204</th>\n",
       "      <td>volvo</td>\n",
       "      <td>264gl</td>\n",
       "    </tr>\n",
       "  </tbody>\n",
       "</table>\n",
       "<p>205 rows × 2 columns</p>\n",
       "</div>"
      ],
      "text/plain": [
       "               0             1\n",
       "0    alfa-romero        giulia\n",
       "1    alfa-romero       stelvio\n",
       "2    alfa-romero  Quadrifoglio\n",
       "3           audi        100 ls\n",
       "4           audi         100ls\n",
       "..           ...           ...\n",
       "200        volvo     145e (sw)\n",
       "201        volvo         144ea\n",
       "202        volvo         244dl\n",
       "203        volvo           246\n",
       "204        volvo         264gl\n",
       "\n",
       "[205 rows x 2 columns]"
      ]
     },
     "execution_count": 12,
     "metadata": {},
     "output_type": "execute_result"
    }
   ],
   "source": [
    "comp_name"
   ]
  },
  {
   "cell_type": "code",
   "execution_count": 13,
   "metadata": {},
   "outputs": [],
   "source": [
    "## Taking only the company names\n",
    "comp_name = comp_name[0]"
   ]
  },
  {
   "cell_type": "code",
   "execution_count": 14,
   "metadata": {},
   "outputs": [],
   "source": [
    "car['Car_Company'] = comp_name"
   ]
  },
  {
   "cell_type": "code",
   "execution_count": 15,
   "metadata": {},
   "outputs": [
    {
     "data": {
      "text/html": [
       "<div>\n",
       "<style scoped>\n",
       "    .dataframe tbody tr th:only-of-type {\n",
       "        vertical-align: middle;\n",
       "    }\n",
       "\n",
       "    .dataframe tbody tr th {\n",
       "        vertical-align: top;\n",
       "    }\n",
       "\n",
       "    .dataframe thead th {\n",
       "        text-align: right;\n",
       "    }\n",
       "</style>\n",
       "<table border=\"1\" class=\"dataframe\">\n",
       "  <thead>\n",
       "    <tr style=\"text-align: right;\">\n",
       "      <th></th>\n",
       "      <th>car_ID</th>\n",
       "      <th>symboling</th>\n",
       "      <th>CarName</th>\n",
       "      <th>fueltype</th>\n",
       "      <th>aspiration</th>\n",
       "      <th>doornumber</th>\n",
       "      <th>carbody</th>\n",
       "      <th>drivewheel</th>\n",
       "      <th>enginelocation</th>\n",
       "      <th>wheelbase</th>\n",
       "      <th>...</th>\n",
       "      <th>fuelsystem</th>\n",
       "      <th>boreratio</th>\n",
       "      <th>stroke</th>\n",
       "      <th>compressionratio</th>\n",
       "      <th>horsepower</th>\n",
       "      <th>peakrpm</th>\n",
       "      <th>citympg</th>\n",
       "      <th>highwaympg</th>\n",
       "      <th>price</th>\n",
       "      <th>Car_Company</th>\n",
       "    </tr>\n",
       "  </thead>\n",
       "  <tbody>\n",
       "    <tr>\n",
       "      <th>0</th>\n",
       "      <td>1</td>\n",
       "      <td>3</td>\n",
       "      <td>alfa-romero giulia</td>\n",
       "      <td>gas</td>\n",
       "      <td>std</td>\n",
       "      <td>two</td>\n",
       "      <td>convertible</td>\n",
       "      <td>rwd</td>\n",
       "      <td>front</td>\n",
       "      <td>88.6</td>\n",
       "      <td>...</td>\n",
       "      <td>mpfi</td>\n",
       "      <td>3.47</td>\n",
       "      <td>2.68</td>\n",
       "      <td>9.0</td>\n",
       "      <td>111</td>\n",
       "      <td>5000</td>\n",
       "      <td>21</td>\n",
       "      <td>27</td>\n",
       "      <td>13495.0</td>\n",
       "      <td>alfa-romero</td>\n",
       "    </tr>\n",
       "    <tr>\n",
       "      <th>1</th>\n",
       "      <td>2</td>\n",
       "      <td>3</td>\n",
       "      <td>alfa-romero stelvio</td>\n",
       "      <td>gas</td>\n",
       "      <td>std</td>\n",
       "      <td>two</td>\n",
       "      <td>convertible</td>\n",
       "      <td>rwd</td>\n",
       "      <td>front</td>\n",
       "      <td>88.6</td>\n",
       "      <td>...</td>\n",
       "      <td>mpfi</td>\n",
       "      <td>3.47</td>\n",
       "      <td>2.68</td>\n",
       "      <td>9.0</td>\n",
       "      <td>111</td>\n",
       "      <td>5000</td>\n",
       "      <td>21</td>\n",
       "      <td>27</td>\n",
       "      <td>16500.0</td>\n",
       "      <td>alfa-romero</td>\n",
       "    </tr>\n",
       "    <tr>\n",
       "      <th>2</th>\n",
       "      <td>3</td>\n",
       "      <td>1</td>\n",
       "      <td>alfa-romero Quadrifoglio</td>\n",
       "      <td>gas</td>\n",
       "      <td>std</td>\n",
       "      <td>two</td>\n",
       "      <td>hatchback</td>\n",
       "      <td>rwd</td>\n",
       "      <td>front</td>\n",
       "      <td>94.5</td>\n",
       "      <td>...</td>\n",
       "      <td>mpfi</td>\n",
       "      <td>2.68</td>\n",
       "      <td>3.47</td>\n",
       "      <td>9.0</td>\n",
       "      <td>154</td>\n",
       "      <td>5000</td>\n",
       "      <td>19</td>\n",
       "      <td>26</td>\n",
       "      <td>16500.0</td>\n",
       "      <td>alfa-romero</td>\n",
       "    </tr>\n",
       "    <tr>\n",
       "      <th>3</th>\n",
       "      <td>4</td>\n",
       "      <td>2</td>\n",
       "      <td>audi 100 ls</td>\n",
       "      <td>gas</td>\n",
       "      <td>std</td>\n",
       "      <td>four</td>\n",
       "      <td>sedan</td>\n",
       "      <td>fwd</td>\n",
       "      <td>front</td>\n",
       "      <td>99.8</td>\n",
       "      <td>...</td>\n",
       "      <td>mpfi</td>\n",
       "      <td>3.19</td>\n",
       "      <td>3.40</td>\n",
       "      <td>10.0</td>\n",
       "      <td>102</td>\n",
       "      <td>5500</td>\n",
       "      <td>24</td>\n",
       "      <td>30</td>\n",
       "      <td>13950.0</td>\n",
       "      <td>audi</td>\n",
       "    </tr>\n",
       "    <tr>\n",
       "      <th>4</th>\n",
       "      <td>5</td>\n",
       "      <td>2</td>\n",
       "      <td>audi 100ls</td>\n",
       "      <td>gas</td>\n",
       "      <td>std</td>\n",
       "      <td>four</td>\n",
       "      <td>sedan</td>\n",
       "      <td>4wd</td>\n",
       "      <td>front</td>\n",
       "      <td>99.4</td>\n",
       "      <td>...</td>\n",
       "      <td>mpfi</td>\n",
       "      <td>3.19</td>\n",
       "      <td>3.40</td>\n",
       "      <td>8.0</td>\n",
       "      <td>115</td>\n",
       "      <td>5500</td>\n",
       "      <td>18</td>\n",
       "      <td>22</td>\n",
       "      <td>17450.0</td>\n",
       "      <td>audi</td>\n",
       "    </tr>\n",
       "  </tbody>\n",
       "</table>\n",
       "<p>5 rows × 27 columns</p>\n",
       "</div>"
      ],
      "text/plain": [
       "   car_ID  symboling                   CarName fueltype aspiration doornumber  \\\n",
       "0       1          3        alfa-romero giulia      gas        std        two   \n",
       "1       2          3       alfa-romero stelvio      gas        std        two   \n",
       "2       3          1  alfa-romero Quadrifoglio      gas        std        two   \n",
       "3       4          2               audi 100 ls      gas        std       four   \n",
       "4       5          2                audi 100ls      gas        std       four   \n",
       "\n",
       "       carbody drivewheel enginelocation  wheelbase  ...  fuelsystem  \\\n",
       "0  convertible        rwd          front       88.6  ...        mpfi   \n",
       "1  convertible        rwd          front       88.6  ...        mpfi   \n",
       "2    hatchback        rwd          front       94.5  ...        mpfi   \n",
       "3        sedan        fwd          front       99.8  ...        mpfi   \n",
       "4        sedan        4wd          front       99.4  ...        mpfi   \n",
       "\n",
       "   boreratio  stroke  compressionratio horsepower peakrpm  citympg highwaympg  \\\n",
       "0       3.47    2.68               9.0        111    5000       21         27   \n",
       "1       3.47    2.68               9.0        111    5000       21         27   \n",
       "2       2.68    3.47               9.0        154    5000       19         26   \n",
       "3       3.19    3.40              10.0        102    5500       24         30   \n",
       "4       3.19    3.40               8.0        115    5500       18         22   \n",
       "\n",
       "     price  Car_Company  \n",
       "0  13495.0  alfa-romero  \n",
       "1  16500.0  alfa-romero  \n",
       "2  16500.0  alfa-romero  \n",
       "3  13950.0         audi  \n",
       "4  17450.0         audi  \n",
       "\n",
       "[5 rows x 27 columns]"
      ]
     },
     "execution_count": 15,
     "metadata": {},
     "output_type": "execute_result"
    }
   ],
   "source": [
    "car.head()"
   ]
  },
  {
   "cell_type": "code",
   "execution_count": 16,
   "metadata": {},
   "outputs": [],
   "source": [
    "# Dropping CarName since it is no longer necessary\n",
    "car.drop(columns = 'CarName', inplace=True)"
   ]
  },
  {
   "cell_type": "markdown",
   "metadata": {},
   "source": [
    "## Fixing some errors in Car Company names"
   ]
  },
  {
   "cell_type": "code",
   "execution_count": 17,
   "metadata": {},
   "outputs": [],
   "source": [
    "### Some companies have errors in names leading to duplicate instances\n",
    "car['Car_Company'] = car['Car_Company'].str.replace('Nissan','nissan',case=False)\n",
    "car['Car_Company'] = car['Car_Company'].str.replace('maxda','mazda',case=False)\n",
    "car['Car_Company'] = car['Car_Company'].str.replace('porcshce','porsche',case=False)\n",
    "car['Car_Company'] = car['Car_Company'].str.replace('toyouta','toyota',case=False)\n",
    "car['Car_Company'] = car['Car_Company'].str.replace('vokswagen','volkswagen',case=False)\n",
    "car['Car_Company'] = car['Car_Company'].str.replace('vw','volkswagen',case=False)"
   ]
  },
  {
   "cell_type": "markdown",
   "metadata": {},
   "source": [
    "##### Assigning the numeric variables to the list num_var"
   ]
  },
  {
   "cell_type": "code",
   "execution_count": 18,
   "metadata": {},
   "outputs": [],
   "source": [
    "num_var = ['symboling','wheelbase','carlength','carwidth','carheight','curbweight','boreratio','stroke','compressionratio','horsepower','peakrpm','citympg','highwaympg','price']"
   ]
  },
  {
   "cell_type": "markdown",
   "metadata": {},
   "source": [
    "## Now Visualising the data with matplotlib & seaborn."
   ]
  },
  {
   "cell_type": "markdown",
   "metadata": {},
   "source": [
    "### Correlation Check"
   ]
  },
  {
   "cell_type": "code",
   "execution_count": 19,
   "metadata": {},
   "outputs": [
    {
     "data": {
      "image/png": "[encoded data removed]",
      "text/plain": [
       "<Figure size 1080x720 with 2 Axes>"
      ]
     },
     "metadata": {
      "needs_background": "light"
     },
     "output_type": "display_data"
    }
   ],
   "source": [
    "plt.figure(figsize = (15, 10))\n",
    "sns.heatmap(car.corr(), annot = True, cmap=\"YlGnBu\")\n",
    "plt.show()"
   ]
  },
  {
   "cell_type": "markdown",
   "metadata": {},
   "source": [
    "###### A few attributes have correlation"
   ]
  },
  {
   "cell_type": "markdown",
   "metadata": {},
   "source": [
    "### Checking for outliers using boxplot"
   ]
  },
  {
   "cell_type": "code",
   "execution_count": 20,
   "metadata": {
    "scrolled": true
   },
   "outputs": [
    {
     "data": {
      "text/plain": [
       "<matplotlib.axes._subplots.AxesSubplot at 0x29a5ada3d60>"
      ]
     },
     "execution_count": 20,
     "metadata": {},
     "output_type": "execute_result"
    },
    {
     "data": {
      "image/png": "[encoded data removed]",
      "text/plain": [
       "<Figure size 1440x2160 with 14 Axes>"
      ]
     },
     "metadata": {
      "needs_background": "light"
     },
     "output_type": "display_data"
    }
   ],
   "source": [
    "plt.figure(figsize=(20, 30))\n",
    "plt.subplot(5,3,1)\n",
    "sns.boxplot(car.price)\n",
    "plt.subplot(5,3,2)\n",
    "sns.boxplot(car.carlength)\n",
    "plt.subplot(5,3,3)\n",
    "sns.boxplot(car.carwidth)\n",
    "plt.subplot(5,3,4)\n",
    "sns.boxplot(car.wheelbase)\n",
    "plt.subplot(5,3,5)\n",
    "sns.boxplot(car.curbweight)\n",
    "plt.subplot(5,3,6)\n",
    "sns.boxplot(car.carheight)\n",
    "plt.subplot(5,3,7)\n",
    "sns.boxplot(car.enginesize)\n",
    "plt.subplot(5,3,8)\n",
    "sns.boxplot(car.boreratio)\n",
    "plt.subplot(5,3,9)\n",
    "sns.boxplot(car.stroke)\n",
    "plt.subplot(5,3,10)\n",
    "sns.boxplot(car.compressionratio)\n",
    "plt.subplot(5,3,11)\n",
    "sns.boxplot(car.peakrpm)\n",
    "plt.subplot(5,3,12)\n",
    "sns.boxplot(car.horsepower)\n",
    "plt.subplot(5,3,13)\n",
    "sns.boxplot(car.citympg)\n",
    "plt.subplot(5,3,14)\n",
    "sns.boxplot(car.highwaympg)"
   ]
  },
  {
   "cell_type": "markdown",
   "metadata": {},
   "source": [
    "## There are some outliers. The data is very limited and we donot want to loose any car company from analysis, we refrain from treating the data with outliers."
   ]
  },
  {
   "cell_type": "markdown",
   "metadata": {},
   "source": [
    "#### Checking for relationships between variables using scatter plots"
   ]
  },
  {
   "cell_type": "code",
   "execution_count": 21,
   "metadata": {
    "scrolled": true
   },
   "outputs": [
    {
     "data": {
      "image/png": "[encoded data removed]",
      "text/plain": [
       "<Figure size 432x288 with 1 Axes>"
      ]
     },
     "metadata": {
      "needs_background": "light"
     },
     "output_type": "display_data"
    }
   ],
   "source": [
    "fig, ax = plt.subplots()\n",
    "ax.scatter(x = car['carlength'], y = car['price'])\n",
    "plt.ylabel('Price', fontsize=13)\n",
    "plt.xlabel('Length', fontsize=13)\n",
    "plt.show()"
   ]
  },
  {
   "cell_type": "code",
   "execution_count": 22,
   "metadata": {},
   "outputs": [],
   "source": [
    "### Car price increases with length"
   ]
  },
  {
   "cell_type": "code",
   "execution_count": 23,
   "metadata": {},
   "outputs": [
    {
     "data": {
      "image/png": "[encoded data removed]",
      "text/plain": [
       "<Figure size 432x288 with 1 Axes>"
      ]
     },
     "metadata": {
      "needs_background": "light"
     },
     "output_type": "display_data"
    }
   ],
   "source": [
    "fig, ax = plt.subplots()\n",
    "ax.scatter(x = car['carwidth'], y = car['price'])\n",
    "plt.ylabel('Price', fontsize=13)\n",
    "plt.xlabel('Width', fontsize=13)\n",
    "plt.show()"
   ]
  },
  {
   "cell_type": "code",
   "execution_count": 24,
   "metadata": {},
   "outputs": [],
   "source": [
    "### We can see that the car price more or less increases with the car width"
   ]
  },
  {
   "cell_type": "code",
   "execution_count": 25,
   "metadata": {},
   "outputs": [
    {
     "data": {
      "image/png": "[encoded data removed]",
      "text/plain": [
       "<Figure size 432x288 with 1 Axes>"
      ]
     },
     "metadata": {
      "needs_background": "light"
     },
     "output_type": "display_data"
    }
   ],
   "source": [
    "fig, ax = plt.subplots()\n",
    "ax.scatter(x = car['carheight'], y = car['price'])\n",
    "plt.ylabel('Price', fontsize=13)\n",
    "plt.xlabel('Height', fontsize=13)\n",
    "plt.show()"
   ]
  },
  {
   "cell_type": "code",
   "execution_count": 26,
   "metadata": {},
   "outputs": [
    {
     "data": {
      "image/png": "[encoded data removed]",
      "text/plain": [
       "<Figure size 432x288 with 1 Axes>"
      ]
     },
     "metadata": {
      "needs_background": "light"
     },
     "output_type": "display_data"
    }
   ],
   "source": [
    "fig, ax = plt.subplots()\n",
    "ax.scatter(x = car['wheelbase'], y = car['price'])\n",
    "plt.ylabel('Price', fontsize=13)\n",
    "plt.xlabel('Wheelbase', fontsize=13)\n",
    "plt.show()"
   ]
  },
  {
   "cell_type": "code",
   "execution_count": 27,
   "metadata": {},
   "outputs": [
    {
     "data": {
      "image/png": "[encoded data removed]",
      "text/plain": [
       "<Figure size 432x288 with 1 Axes>"
      ]
     },
     "metadata": {
      "needs_background": "light"
     },
     "output_type": "display_data"
    }
   ],
   "source": [
    "fig, ax = plt.subplots()\n",
    "ax.scatter(x = car['enginesize'], y = car['price'])\n",
    "plt.ylabel('Price', fontsize=13)\n",
    "plt.xlabel('enginesize', fontsize=13)\n",
    "plt.show()"
   ]
  },
  {
   "cell_type": "code",
   "execution_count": 28,
   "metadata": {},
   "outputs": [],
   "source": [
    "#### Enginesize is positively correlated with price"
   ]
  },
  {
   "cell_type": "code",
   "execution_count": 29,
   "metadata": {},
   "outputs": [
    {
     "data": {
      "image/png": "[encoded data removed]",
      "text/plain": [
       "<Figure size 432x288 with 1 Axes>"
      ]
     },
     "metadata": {
      "needs_background": "light"
     },
     "output_type": "display_data"
    }
   ],
   "source": [
    "fig, ax = plt.subplots()\n",
    "ax.scatter(x = car['curbweight'], y = car['price'])\n",
    "plt.ylabel('Price', fontsize=13)\n",
    "plt.xlabel('curbweight', fontsize=13)\n",
    "plt.show()"
   ]
  },
  {
   "cell_type": "code",
   "execution_count": 30,
   "metadata": {},
   "outputs": [
    {
     "data": {
      "image/png": "[encoded data removed]",
      "text/plain": [
       "<Figure size 432x288 with 1 Axes>"
      ]
     },
     "metadata": {
      "needs_background": "light"
     },
     "output_type": "display_data"
    }
   ],
   "source": [
    "fig, ax = plt.subplots()\n",
    "ax.scatter(x = car['boreratio'], y = car['price'])\n",
    "plt.ylabel('Price', fontsize=13)\n",
    "plt.xlabel('boreratio', fontsize=13)\n",
    "plt.show()"
   ]
  },
  {
   "cell_type": "code",
   "execution_count": 31,
   "metadata": {},
   "outputs": [
    {
     "data": {
      "image/png": "[encoded data removed]",
      "text/plain": [
       "<Figure size 432x288 with 1 Axes>"
      ]
     },
     "metadata": {
      "needs_background": "light"
     },
     "output_type": "display_data"
    }
   ],
   "source": [
    "fig, ax = plt.subplots()\n",
    "ax.scatter(x = car['stroke'], y = car['price'])\n",
    "plt.ylabel('Price', fontsize=13)\n",
    "plt.xlabel('stroke', fontsize=13)\n",
    "plt.show()"
   ]
  },
  {
   "cell_type": "code",
   "execution_count": 32,
   "metadata": {},
   "outputs": [
    {
     "data": {
      "image/png": "[encoded data removed]",
      "text/plain": [
       "<Figure size 432x288 with 1 Axes>"
      ]
     },
     "metadata": {
      "needs_background": "light"
     },
     "output_type": "display_data"
    }
   ],
   "source": [
    "fig, ax = plt.subplots()\n",
    "ax.scatter(x = car['compressionratio'], y = car['price'])\n",
    "plt.ylabel('Price', fontsize=13)\n",
    "plt.xlabel('compressionratio', fontsize=13)\n",
    "plt.show()"
   ]
  },
  {
   "cell_type": "code",
   "execution_count": 33,
   "metadata": {},
   "outputs": [
    {
     "data": {
      "image/png": "[encoded data removed]",
      "text/plain": [
       "<Figure size 432x288 with 1 Axes>"
      ]
     },
     "metadata": {
      "needs_background": "light"
     },
     "output_type": "display_data"
    }
   ],
   "source": [
    "fig, ax = plt.subplots()\n",
    "ax.scatter(x = car['peakrpm'], y = car['price'])\n",
    "plt.ylabel('Price', fontsize=13)\n",
    "plt.xlabel('peakrpm', fontsize=13)\n",
    "plt.show()"
   ]
  },
  {
   "cell_type": "code",
   "execution_count": 34,
   "metadata": {},
   "outputs": [
    {
     "data": {
      "image/png": "[encoded data removed]",
      "text/plain": [
       "<Figure size 432x288 with 1 Axes>"
      ]
     },
     "metadata": {
      "needs_background": "light"
     },
     "output_type": "display_data"
    }
   ],
   "source": [
    "fig, ax = plt.subplots()\n",
    "ax.scatter(x = car['horsepower'], y = car['price'])\n",
    "plt.ylabel('Price', fontsize=13)\n",
    "plt.xlabel('horsepower', fontsize=13)\n",
    "plt.show()"
   ]
  },
  {
   "cell_type": "code",
   "execution_count": 35,
   "metadata": {},
   "outputs": [],
   "source": [
    "#### price increases with horsepower"
   ]
  },
  {
   "cell_type": "code",
   "execution_count": 36,
   "metadata": {
    "scrolled": true
   },
   "outputs": [
    {
     "data": {
      "image/png": "[encoded data removed]",
      "text/plain": [
       "<Figure size 432x288 with 1 Axes>"
      ]
     },
     "metadata": {
      "needs_background": "light"
     },
     "output_type": "display_data"
    }
   ],
   "source": [
    "fig, ax = plt.subplots()\n",
    "ax.scatter(x = car['citympg'], y = car['price'])\n",
    "plt.ylabel('Price', fontsize=13)\n",
    "plt.xlabel('citympg', fontsize=13)\n",
    "plt.show()"
   ]
  },
  {
   "cell_type": "code",
   "execution_count": 37,
   "metadata": {},
   "outputs": [],
   "source": [
    "### Price decreases with increase in citympg. Luxury cars have low citympg."
   ]
  },
  {
   "cell_type": "code",
   "execution_count": 38,
   "metadata": {},
   "outputs": [
    {
     "data": {
      "image/png": "[encoded data removed]",
      "text/plain": [
       "<Figure size 432x288 with 1 Axes>"
      ]
     },
     "metadata": {
      "needs_background": "light"
     },
     "output_type": "display_data"
    }
   ],
   "source": [
    "fig, ax = plt.subplots()\n",
    "ax.scatter(x = car['highwaympg'], y = car['price'])\n",
    "plt.ylabel('Price', fontsize=13)\n",
    "plt.xlabel('highwaympg', fontsize=13)\n",
    "plt.show()"
   ]
  },
  {
   "cell_type": "code",
   "execution_count": 39,
   "metadata": {},
   "outputs": [],
   "source": [
    "### Price decreases with increase in highwaympg. Luxury cars have low highwaympg."
   ]
  },
  {
   "cell_type": "markdown",
   "metadata": {},
   "source": [
    "## Binary Encoding"
   ]
  },
  {
   "cell_type": "code",
   "execution_count": 40,
   "metadata": {},
   "outputs": [],
   "source": [
    "varlist =  ['fueltype', 'aspiration', 'doornumber', 'enginelocation']\n",
    "\n",
    "# Defining the map function\n",
    "def binary_map(x):\n",
    "    return x.map({'gas': 1, \"diesel\": 0,\"std\":1,\"turbo\":0,\"four\":1,\"two\":0,\"front\":0,\"rear\":1,})\n",
    "\n",
    "# Applying the function to the housing list\n",
    "car[varlist] = car[varlist].apply(binary_map)"
   ]
  },
  {
   "cell_type": "markdown",
   "metadata": {},
   "source": [
    "## Dummy Encoding"
   ]
  },
  {
   "cell_type": "markdown",
   "metadata": {},
   "source": [
    "##### Assigning the catergorical variables to the list cat_var"
   ]
  },
  {
   "cell_type": "code",
   "execution_count": 41,
   "metadata": {},
   "outputs": [],
   "source": [
    "cat_var = ['carbody','drivewheel','Car_Company','enginetype','cylindernumber','fuelsystem']"
   ]
  },
  {
   "cell_type": "code",
   "execution_count": 42,
   "metadata": {},
   "outputs": [],
   "source": [
    "for item in cat_var:\n",
    "    body = pd.get_dummies(car[item],prefix = item, drop_first = True)\n",
    "    car = pd.concat([car,body], axis=1)\n",
    "    car.drop(item, axis=1, inplace=True)"
   ]
  },
  {
   "cell_type": "code",
   "execution_count": 43,
   "metadata": {},
   "outputs": [
    {
     "data": {
      "text/plain": [
       "(205, 66)"
      ]
     },
     "execution_count": 43,
     "metadata": {},
     "output_type": "execute_result"
    }
   ],
   "source": [
    "car.shape"
   ]
  },
  {
   "cell_type": "code",
   "execution_count": 44,
   "metadata": {},
   "outputs": [],
   "source": [
    "# Dropping car_ID since it is not necessary\n",
    "car.drop('car_ID',axis=1,inplace=True)"
   ]
  },
  {
   "cell_type": "markdown",
   "metadata": {},
   "source": [
    "## Train Test Split"
   ]
  },
  {
   "cell_type": "code",
   "execution_count": 45,
   "metadata": {},
   "outputs": [],
   "source": [
    "from sklearn.model_selection import train_test_split\n",
    "\n",
    "np.random.seed(0)\n",
    "df_train, df_test = train_test_split(car, train_size = 0.7, test_size = 0.3, random_state = 100)"
   ]
  },
  {
   "cell_type": "code",
   "execution_count": 46,
   "metadata": {},
   "outputs": [],
   "source": [
    "from sklearn.preprocessing import StandardScaler"
   ]
  },
  {
   "cell_type": "code",
   "execution_count": 47,
   "metadata": {},
   "outputs": [],
   "source": [
    "scaler = StandardScaler()"
   ]
  },
  {
   "cell_type": "code",
   "execution_count": 48,
   "metadata": {},
   "outputs": [],
   "source": [
    "num_var.append('enginesize')"
   ]
  },
  {
   "cell_type": "markdown",
   "metadata": {},
   "source": [
    "### Standardizing the numeric variables"
   ]
  },
  {
   "cell_type": "code",
   "execution_count": 49,
   "metadata": {},
   "outputs": [],
   "source": [
    "df_train[num_var] = scaler.fit_transform(df_train[num_var])"
   ]
  },
  {
   "cell_type": "code",
   "execution_count": 50,
   "metadata": {},
   "outputs": [
    {
     "data": {
      "text/html": [
       "<div>\n",
       "<style scoped>\n",
       "    .dataframe tbody tr th:only-of-type {\n",
       "        vertical-align: middle;\n",
       "    }\n",
       "\n",
       "    .dataframe tbody tr th {\n",
       "        vertical-align: top;\n",
       "    }\n",
       "\n",
       "    .dataframe thead th {\n",
       "        text-align: right;\n",
       "    }\n",
       "</style>\n",
       "<table border=\"1\" class=\"dataframe\">\n",
       "  <thead>\n",
       "    <tr style=\"text-align: right;\">\n",
       "      <th></th>\n",
       "      <th>symboling</th>\n",
       "      <th>fueltype</th>\n",
       "      <th>aspiration</th>\n",
       "      <th>doornumber</th>\n",
       "      <th>enginelocation</th>\n",
       "      <th>wheelbase</th>\n",
       "      <th>carlength</th>\n",
       "      <th>carwidth</th>\n",
       "      <th>carheight</th>\n",
       "      <th>curbweight</th>\n",
       "      <th>...</th>\n",
       "      <th>cylindernumber_three</th>\n",
       "      <th>cylindernumber_twelve</th>\n",
       "      <th>cylindernumber_two</th>\n",
       "      <th>fuelsystem_2bbl</th>\n",
       "      <th>fuelsystem_4bbl</th>\n",
       "      <th>fuelsystem_idi</th>\n",
       "      <th>fuelsystem_mfi</th>\n",
       "      <th>fuelsystem_mpfi</th>\n",
       "      <th>fuelsystem_spdi</th>\n",
       "      <th>fuelsystem_spfi</th>\n",
       "    </tr>\n",
       "  </thead>\n",
       "  <tbody>\n",
       "    <tr>\n",
       "      <th>122</th>\n",
       "      <td>0.170159</td>\n",
       "      <td>1</td>\n",
       "      <td>1</td>\n",
       "      <td>1</td>\n",
       "      <td>0</td>\n",
       "      <td>-0.811836</td>\n",
       "      <td>-0.487238</td>\n",
       "      <td>-0.924500</td>\n",
       "      <td>-1.134628</td>\n",
       "      <td>-0.642128</td>\n",
       "      <td>...</td>\n",
       "      <td>0</td>\n",
       "      <td>0</td>\n",
       "      <td>0</td>\n",
       "      <td>1</td>\n",
       "      <td>0</td>\n",
       "      <td>0</td>\n",
       "      <td>0</td>\n",
       "      <td>0</td>\n",
       "      <td>0</td>\n",
       "      <td>0</td>\n",
       "    </tr>\n",
       "    <tr>\n",
       "      <th>125</th>\n",
       "      <td>1.848278</td>\n",
       "      <td>1</td>\n",
       "      <td>1</td>\n",
       "      <td>0</td>\n",
       "      <td>0</td>\n",
       "      <td>-0.677177</td>\n",
       "      <td>-0.359789</td>\n",
       "      <td>1.114978</td>\n",
       "      <td>-1.382026</td>\n",
       "      <td>0.439415</td>\n",
       "      <td>...</td>\n",
       "      <td>0</td>\n",
       "      <td>0</td>\n",
       "      <td>0</td>\n",
       "      <td>0</td>\n",
       "      <td>0</td>\n",
       "      <td>0</td>\n",
       "      <td>0</td>\n",
       "      <td>1</td>\n",
       "      <td>0</td>\n",
       "      <td>0</td>\n",
       "    </tr>\n",
       "    <tr>\n",
       "      <th>166</th>\n",
       "      <td>0.170159</td>\n",
       "      <td>1</td>\n",
       "      <td>1</td>\n",
       "      <td>0</td>\n",
       "      <td>0</td>\n",
       "      <td>-0.677177</td>\n",
       "      <td>-0.375720</td>\n",
       "      <td>-0.833856</td>\n",
       "      <td>-0.392434</td>\n",
       "      <td>-0.441296</td>\n",
       "      <td>...</td>\n",
       "      <td>0</td>\n",
       "      <td>0</td>\n",
       "      <td>0</td>\n",
       "      <td>0</td>\n",
       "      <td>0</td>\n",
       "      <td>0</td>\n",
       "      <td>0</td>\n",
       "      <td>1</td>\n",
       "      <td>0</td>\n",
       "      <td>0</td>\n",
       "    </tr>\n",
       "    <tr>\n",
       "      <th>1</th>\n",
       "      <td>1.848278</td>\n",
       "      <td>1</td>\n",
       "      <td>1</td>\n",
       "      <td>0</td>\n",
       "      <td>0</td>\n",
       "      <td>-1.670284</td>\n",
       "      <td>-0.367754</td>\n",
       "      <td>-0.788535</td>\n",
       "      <td>-1.959288</td>\n",
       "      <td>0.015642</td>\n",
       "      <td>...</td>\n",
       "      <td>0</td>\n",
       "      <td>0</td>\n",
       "      <td>0</td>\n",
       "      <td>0</td>\n",
       "      <td>0</td>\n",
       "      <td>0</td>\n",
       "      <td>0</td>\n",
       "      <td>1</td>\n",
       "      <td>0</td>\n",
       "      <td>0</td>\n",
       "    </tr>\n",
       "    <tr>\n",
       "      <th>199</th>\n",
       "      <td>-1.507960</td>\n",
       "      <td>1</td>\n",
       "      <td>0</td>\n",
       "      <td>1</td>\n",
       "      <td>0</td>\n",
       "      <td>0.972390</td>\n",
       "      <td>1.225364</td>\n",
       "      <td>0.616439</td>\n",
       "      <td>1.627983</td>\n",
       "      <td>1.137720</td>\n",
       "      <td>...</td>\n",
       "      <td>0</td>\n",
       "      <td>0</td>\n",
       "      <td>0</td>\n",
       "      <td>0</td>\n",
       "      <td>0</td>\n",
       "      <td>0</td>\n",
       "      <td>0</td>\n",
       "      <td>1</td>\n",
       "      <td>0</td>\n",
       "      <td>0</td>\n",
       "    </tr>\n",
       "  </tbody>\n",
       "</table>\n",
       "<p>5 rows × 65 columns</p>\n",
       "</div>"
      ],
      "text/plain": [
       "     symboling  fueltype  aspiration  doornumber  enginelocation  wheelbase  \\\n",
       "122   0.170159         1           1           1               0  -0.811836   \n",
       "125   1.848278         1           1           0               0  -0.677177   \n",
       "166   0.170159         1           1           0               0  -0.677177   \n",
       "1     1.848278         1           1           0               0  -1.670284   \n",
       "199  -1.507960         1           0           1               0   0.972390   \n",
       "\n",
       "     carlength  carwidth  carheight  curbweight  ...  cylindernumber_three  \\\n",
       "122  -0.487238 -0.924500  -1.134628   -0.642128  ...                     0   \n",
       "125  -0.359789  1.114978  -1.382026    0.439415  ...                     0   \n",
       "166  -0.375720 -0.833856  -0.392434   -0.441296  ...                     0   \n",
       "1    -0.367754 -0.788535  -1.959288    0.015642  ...                     0   \n",
       "199   1.225364  0.616439   1.627983    1.137720  ...                     0   \n",
       "\n",
       "     cylindernumber_twelve  cylindernumber_two  fuelsystem_2bbl  \\\n",
       "122                      0                   0                1   \n",
       "125                      0                   0                0   \n",
       "166                      0                   0                0   \n",
       "1                        0                   0                0   \n",
       "199                      0                   0                0   \n",
       "\n",
       "     fuelsystem_4bbl  fuelsystem_idi  fuelsystem_mfi  fuelsystem_mpfi  \\\n",
       "122                0               0               0                0   \n",
       "125                0               0               0                1   \n",
       "166                0               0               0                1   \n",
       "1                  0               0               0                1   \n",
       "199                0               0               0                1   \n",
       "\n",
       "     fuelsystem_spdi  fuelsystem_spfi  \n",
       "122                0                0  \n",
       "125                0                0  \n",
       "166                0                0  \n",
       "1                  0                0  \n",
       "199                0                0  \n",
       "\n",
       "[5 rows x 65 columns]"
      ]
     },
     "execution_count": 50,
     "metadata": {},
     "output_type": "execute_result"
    }
   ],
   "source": [
    "df_train.head()"
   ]
  },
  {
   "cell_type": "markdown",
   "metadata": {},
   "source": [
    "## # Dividing into X and Y sets for model building"
   ]
  },
  {
   "cell_type": "code",
   "execution_count": 51,
   "metadata": {},
   "outputs": [],
   "source": [
    "y_train = df_train.pop('price')\n",
    "X_train = df_train"
   ]
  },
  {
   "cell_type": "markdown",
   "metadata": {},
   "source": [
    "# Using RFE approach"
   ]
  },
  {
   "cell_type": "code",
   "execution_count": 54,
   "metadata": {},
   "outputs": [],
   "source": [
    "### We will use Recursive Feature Elimination for dimentionality reduction"
   ]
  },
  {
   "cell_type": "code",
   "execution_count": 55,
   "metadata": {},
   "outputs": [],
   "source": [
    "from sklearn.feature_selection import RFE\n",
    "from sklearn.linear_model import LinearRegression"
   ]
  },
  {
   "cell_type": "code",
   "execution_count": 56,
   "metadata": {},
   "outputs": [],
   "source": [
    "# Output number of variables is 20\n",
    "lm = LinearRegression()\n",
    "lm.fit(X_train, y_train)\n",
    "\n",
    "rfe = RFE(lm, 20)             \n",
    "rfe = rfe.fit(X_train, y_train)"
   ]
  },
  {
   "cell_type": "code",
   "execution_count": 57,
   "metadata": {},
   "outputs": [
    {
     "data": {
      "text/plain": [
       "Index(['aspiration', 'enginelocation', 'enginesize', 'boreratio',\n",
       "       'Car_Company_audi', 'Car_Company_bmw', 'Car_Company_buick',\n",
       "       'Car_Company_mitsubishi', 'Car_Company_porsche', 'Car_Company_saab',\n",
       "       'Car_Company_volvo', 'enginetype_dohcv', 'enginetype_l',\n",
       "       'enginetype_ohcf', 'enginetype_rotor', 'cylindernumber_five',\n",
       "       'cylindernumber_four', 'cylindernumber_three', 'cylindernumber_twelve',\n",
       "       'cylindernumber_two'],\n",
       "      dtype='object')"
      ]
     },
     "execution_count": 57,
     "metadata": {},
     "output_type": "execute_result"
    }
   ],
   "source": [
    "### checking the selected attributes\n",
    "col = X_train.columns[rfe.support_]\n",
    "col"
   ]
  },
  {
   "cell_type": "markdown",
   "metadata": {},
   "source": [
    "# Using statsmodel api"
   ]
  },
  {
   "cell_type": "code",
   "execution_count": 58,
   "metadata": {},
   "outputs": [],
   "source": [
    "# Creating X_test dataframe with RFE selected variables\n",
    "X_train_rfe = X_train[col]"
   ]
  },
  {
   "cell_type": "code",
   "execution_count": 59,
   "metadata": {},
   "outputs": [],
   "source": [
    "# Adding constant\n",
    "import statsmodels.api as sm  \n",
    "X_train_rfe = sm.add_constant(X_train_rfe)"
   ]
  },
  {
   "cell_type": "markdown",
   "metadata": {},
   "source": [
    "# Model 1"
   ]
  },
  {
   "cell_type": "code",
   "execution_count": 60,
   "metadata": {},
   "outputs": [
    {
     "name": "stdout",
     "output_type": "stream",
     "text": [
      "                            OLS Regression Results                            \n",
      "==============================================================================\n",
      "Dep. Variable:                  price   R-squared:                       0.933\n",
      "Model:                            OLS   Adj. R-squared:                  0.923\n",
      "Method:                 Least Squares   F-statistic:                     90.21\n",
      "Date:                Sat, 17 Oct 2020   Prob (F-statistic):           8.66e-63\n",
      "Time:                        16:11:56   Log-Likelihood:                -9.5973\n",
      "No. Observations:                 143   AIC:                             59.19\n",
      "Df Residuals:                     123   BIC:                             118.5\n",
      "Df Model:                          19                                         \n",
      "Covariance Type:            nonrobust                                         \n",
      "==========================================================================================\n",
      "                             coef    std err          t      P>|t|      [0.025      0.975]\n",
      "------------------------------------------------------------------------------------------\n",
      "const                     -0.6488      0.206     -3.150      0.002      -1.056      -0.241\n",
      "aspiration                -0.2748      0.074     -3.718      0.000      -0.421      -0.128\n",
      "enginelocation             0.4186      0.436      0.959      0.339      -0.445       1.282\n",
      "enginesize                 1.1684      0.115     10.201      0.000       0.942       1.395\n",
      "boreratio                 -0.2935      0.074     -3.963      0.000      -0.440      -0.147\n",
      "Car_Company_audi           0.5673      0.233      2.433      0.016       0.106       1.029\n",
      "Car_Company_bmw            1.4508      0.142     10.233      0.000       1.170       1.731\n",
      "Car_Company_buick          0.7535      0.197      3.816      0.000       0.363       1.144\n",
      "Car_Company_mitsubishi    -0.3592      0.107     -3.371      0.001      -0.570      -0.148\n",
      "Car_Company_porsche        1.2931      0.307      4.209      0.000       0.685       1.901\n",
      "Car_Company_saab           0.7486      0.181      4.141      0.000       0.391       1.106\n",
      "Car_Company_volvo          0.8017      0.148      5.415      0.000       0.509       1.095\n",
      "enginetype_dohcv           0.4689      0.405      1.156      0.250      -0.334       1.271\n",
      "enginetype_l               0.2826      0.129      2.198      0.030       0.028       0.537\n",
      "enginetype_ohcf            0.4199      0.155      2.711      0.008       0.113       0.726\n",
      "enginetype_rotor           1.2228      0.180      6.784      0.000       0.866       1.580\n",
      "cylindernumber_five        0.5185      0.245      2.114      0.037       0.033       1.004\n",
      "cylindernumber_four        0.7509      0.208      3.606      0.000       0.339       1.163\n",
      "cylindernumber_three       1.0065      0.401      2.510      0.013       0.213       1.800\n",
      "cylindernumber_twelve     -1.6181      0.444     -3.641      0.000      -2.498      -0.738\n",
      "cylindernumber_two         1.2228      0.180      6.784      0.000       0.866       1.580\n",
      "==============================================================================\n",
      "Omnibus:                       18.366   Durbin-Watson:                   2.006\n",
      "Prob(Omnibus):                  0.000   Jarque-Bera (JB):               32.319\n",
      "Skew:                           0.605   Prob(JB):                     9.59e-08\n",
      "Kurtosis:                       4.990   Cond. No.                     1.43e+17\n",
      "==============================================================================\n",
      "\n",
      "Warnings:\n",
      "[1] Standard Errors assume that the covariance matrix of the errors is correctly specified.\n",
      "[2] The smallest eigenvalue is 1.66e-32. This might indicate that there are\n",
      "strong multicollinearity problems or that the design matrix is singular.\n"
     ]
    }
   ],
   "source": [
    "#Running linear model\n",
    "lm = sm.OLS(y_train,X_train_rfe).fit()\n",
    "print(lm.summary())"
   ]
  },
  {
   "cell_type": "code",
   "execution_count": 61,
   "metadata": {},
   "outputs": [
    {
     "data": {
      "text/html": [
       "<div>\n",
       "<style scoped>\n",
       "    .dataframe tbody tr th:only-of-type {\n",
       "        vertical-align: middle;\n",
       "    }\n",
       "\n",
       "    .dataframe tbody tr th {\n",
       "        vertical-align: top;\n",
       "    }\n",
       "\n",
       "    .dataframe thead th {\n",
       "        text-align: right;\n",
       "    }\n",
       "</style>\n",
       "<table border=\"1\" class=\"dataframe\">\n",
       "  <thead>\n",
       "    <tr style=\"text-align: right;\">\n",
       "      <th></th>\n",
       "      <th>Features</th>\n",
       "      <th>VIF</th>\n",
       "    </tr>\n",
       "  </thead>\n",
       "  <tbody>\n",
       "    <tr>\n",
       "      <th>20</th>\n",
       "      <td>cylindernumber_two</td>\n",
       "      <td>inf</td>\n",
       "    </tr>\n",
       "    <tr>\n",
       "      <th>15</th>\n",
       "      <td>enginetype_rotor</td>\n",
       "      <td>inf</td>\n",
       "    </tr>\n",
       "    <tr>\n",
       "      <th>0</th>\n",
       "      <td>const</td>\n",
       "      <td>77.91</td>\n",
       "    </tr>\n",
       "    <tr>\n",
       "      <th>3</th>\n",
       "      <td>enginesize</td>\n",
       "      <td>24.10</td>\n",
       "    </tr>\n",
       "    <tr>\n",
       "      <th>17</th>\n",
       "      <td>cylindernumber_four</td>\n",
       "      <td>15.27</td>\n",
       "    </tr>\n",
       "    <tr>\n",
       "      <th>4</th>\n",
       "      <td>boreratio</td>\n",
       "      <td>10.07</td>\n",
       "    </tr>\n",
       "    <tr>\n",
       "      <th>16</th>\n",
       "      <td>cylindernumber_five</td>\n",
       "      <td>6.52</td>\n",
       "    </tr>\n",
       "    <tr>\n",
       "      <th>9</th>\n",
       "      <td>Car_Company_porsche</td>\n",
       "      <td>3.56</td>\n",
       "    </tr>\n",
       "    <tr>\n",
       "      <th>14</th>\n",
       "      <td>enginetype_ohcf</td>\n",
       "      <td>3.39</td>\n",
       "    </tr>\n",
       "    <tr>\n",
       "      <th>5</th>\n",
       "      <td>Car_Company_audi</td>\n",
       "      <td>3.37</td>\n",
       "    </tr>\n",
       "    <tr>\n",
       "      <th>19</th>\n",
       "      <td>cylindernumber_twelve</td>\n",
       "      <td>2.52</td>\n",
       "    </tr>\n",
       "    <tr>\n",
       "      <th>2</th>\n",
       "      <td>enginelocation</td>\n",
       "      <td>2.43</td>\n",
       "    </tr>\n",
       "    <tr>\n",
       "      <th>7</th>\n",
       "      <td>Car_Company_buick</td>\n",
       "      <td>2.42</td>\n",
       "    </tr>\n",
       "    <tr>\n",
       "      <th>12</th>\n",
       "      <td>enginetype_dohcv</td>\n",
       "      <td>2.10</td>\n",
       "    </tr>\n",
       "    <tr>\n",
       "      <th>18</th>\n",
       "      <td>cylindernumber_three</td>\n",
       "      <td>2.05</td>\n",
       "    </tr>\n",
       "    <tr>\n",
       "      <th>13</th>\n",
       "      <td>enginetype_l</td>\n",
       "      <td>1.79</td>\n",
       "    </tr>\n",
       "    <tr>\n",
       "      <th>11</th>\n",
       "      <td>Car_Company_volvo</td>\n",
       "      <td>1.62</td>\n",
       "    </tr>\n",
       "    <tr>\n",
       "      <th>1</th>\n",
       "      <td>aspiration</td>\n",
       "      <td>1.49</td>\n",
       "    </tr>\n",
       "    <tr>\n",
       "      <th>6</th>\n",
       "      <td>Car_Company_bmw</td>\n",
       "      <td>1.48</td>\n",
       "    </tr>\n",
       "    <tr>\n",
       "      <th>8</th>\n",
       "      <td>Car_Company_mitsubishi</td>\n",
       "      <td>1.23</td>\n",
       "    </tr>\n",
       "    <tr>\n",
       "      <th>10</th>\n",
       "      <td>Car_Company_saab</td>\n",
       "      <td>1.23</td>\n",
       "    </tr>\n",
       "  </tbody>\n",
       "</table>\n",
       "</div>"
      ],
      "text/plain": [
       "                  Features    VIF\n",
       "20      cylindernumber_two    inf\n",
       "15        enginetype_rotor    inf\n",
       "0                    const  77.91\n",
       "3               enginesize  24.10\n",
       "17     cylindernumber_four  15.27\n",
       "4                boreratio  10.07\n",
       "16     cylindernumber_five   6.52\n",
       "9      Car_Company_porsche   3.56\n",
       "14         enginetype_ohcf   3.39\n",
       "5         Car_Company_audi   3.37\n",
       "19   cylindernumber_twelve   2.52\n",
       "2           enginelocation   2.43\n",
       "7        Car_Company_buick   2.42\n",
       "12        enginetype_dohcv   2.10\n",
       "18    cylindernumber_three   2.05\n",
       "13            enginetype_l   1.79\n",
       "11       Car_Company_volvo   1.62\n",
       "1               aspiration   1.49\n",
       "6          Car_Company_bmw   1.48\n",
       "8   Car_Company_mitsubishi   1.23\n",
       "10        Car_Company_saab   1.23"
      ]
     },
     "execution_count": 61,
     "metadata": {},
     "output_type": "execute_result"
    }
   ],
   "source": [
    "# Checking VIF\n",
    "from statsmodels.stats.outliers_influence import variance_inflation_factor\n",
    "\n",
    "vif = pd.DataFrame()\n",
    "X = X_train_rfe\n",
    "vif['Features'] = X.columns\n",
    "vif['VIF'] = [variance_inflation_factor(X.values, i) for i in range(X.shape[1])]\n",
    "vif['VIF'] = round(vif['VIF'], 2)\n",
    "vif = vif.sort_values(by = \"VIF\", ascending = False)\n",
    "vif"
   ]
  },
  {
   "cell_type": "code",
   "execution_count": 62,
   "metadata": {},
   "outputs": [],
   "source": [
    "#Dropping enginelocation\n",
    "X_train_new = X_train_rfe.drop([\"enginelocation\"], axis = 1)"
   ]
  },
  {
   "cell_type": "markdown",
   "metadata": {},
   "source": [
    "### Model 2"
   ]
  },
  {
   "cell_type": "code",
   "execution_count": 63,
   "metadata": {
    "scrolled": true
   },
   "outputs": [
    {
     "name": "stdout",
     "output_type": "stream",
     "text": [
      "                            OLS Regression Results                            \n",
      "==============================================================================\n",
      "Dep. Variable:                  price   R-squared:                       0.933\n",
      "Model:                            OLS   Adj. R-squared:                  0.923\n",
      "Method:                 Least Squares   F-statistic:                     95.23\n",
      "Date:                Sat, 17 Oct 2020   Prob (F-statistic):           1.37e-63\n",
      "Time:                        16:14:03   Log-Likelihood:                -10.130\n",
      "No. Observations:                 143   AIC:                             58.26\n",
      "Df Residuals:                     124   BIC:                             114.6\n",
      "Df Model:                          18                                         \n",
      "Covariance Type:            nonrobust                                         \n",
      "==========================================================================================\n",
      "                             coef    std err          t      P>|t|      [0.025      0.975]\n",
      "------------------------------------------------------------------------------------------\n",
      "const                     -0.6741      0.204     -3.301      0.001      -1.078      -0.270\n",
      "aspiration                -0.2721      0.074     -3.686      0.000      -0.418      -0.126\n",
      "enginesize                 1.1905      0.112     10.612      0.000       0.968       1.413\n",
      "boreratio                 -0.3140      0.071     -4.431      0.000      -0.454      -0.174\n",
      "Car_Company_audi           0.5500      0.232      2.367      0.019       0.090       1.010\n",
      "Car_Company_bmw            1.4572      0.142     10.293      0.000       1.177       1.737\n",
      "Car_Company_buick          0.7381      0.197      3.752      0.000       0.349       1.127\n",
      "Car_Company_mitsubishi    -0.3541      0.106     -3.328      0.001      -0.565      -0.144\n",
      "Car_Company_porsche        1.5050      0.214      7.046      0.000       1.082       1.928\n",
      "Car_Company_saab           0.7747      0.179      4.337      0.000       0.421       1.128\n",
      "Car_Company_volvo          0.8253      0.146      5.654      0.000       0.536       1.114\n",
      "enginetype_dohcv           0.2876      0.359      0.802      0.424      -0.422       0.997\n",
      "enginetype_l               0.3052      0.126      2.414      0.017       0.055       0.555\n",
      "enginetype_ohcf            0.4751      0.144      3.304      0.001       0.190       0.760\n",
      "enginetype_rotor           1.2491      0.178      7.014      0.000       0.897       1.602\n",
      "cylindernumber_five        0.5435      0.244      2.229      0.028       0.061       1.026\n",
      "cylindernumber_four        0.7688      0.207      3.708      0.000       0.358       1.179\n",
      "cylindernumber_three       1.0098      0.401      2.519      0.013       0.217       1.803\n",
      "cylindernumber_twelve     -1.6855      0.439     -3.842      0.000      -2.554      -0.817\n",
      "cylindernumber_two         1.2491      0.178      7.014      0.000       0.897       1.602\n",
      "==============================================================================\n",
      "Omnibus:                       18.339   Durbin-Watson:                   2.022\n",
      "Prob(Omnibus):                  0.000   Jarque-Bera (JB):               31.256\n",
      "Skew:                           0.617   Prob(JB):                     1.63e-07\n",
      "Kurtosis:                       4.929   Cond. No.                     1.17e+17\n",
      "==============================================================================\n",
      "\n",
      "Warnings:\n",
      "[1] Standard Errors assume that the covariance matrix of the errors is correctly specified.\n",
      "[2] The smallest eigenvalue is 2.48e-32. This might indicate that there are\n",
      "strong multicollinearity problems or that the design matrix is singular.\n"
     ]
    }
   ],
   "source": [
    "lm = sm.OLS(y_train,X_train_new).fit()\n",
    "print(lm.summary())"
   ]
  },
  {
   "cell_type": "code",
   "execution_count": 64,
   "metadata": {},
   "outputs": [],
   "source": [
    "# Dropping enginetype_dohcv\n",
    "X_train_new1 = X_train_new.drop('enginetype_dohcv',axis=1)"
   ]
  },
  {
   "cell_type": "markdown",
   "metadata": {},
   "source": [
    "## Model 3"
   ]
  },
  {
   "cell_type": "code",
   "execution_count": 65,
   "metadata": {},
   "outputs": [
    {
     "name": "stdout",
     "output_type": "stream",
     "text": [
      "                            OLS Regression Results                            \n",
      "==============================================================================\n",
      "Dep. Variable:                  price   R-squared:                       0.932\n",
      "Model:                            OLS   Adj. R-squared:                  0.923\n",
      "Method:                 Least Squares   F-statistic:                     101.1\n",
      "Date:                Sat, 17 Oct 2020   Prob (F-statistic):           1.85e-64\n",
      "Time:                        16:14:13   Log-Likelihood:                -10.500\n",
      "No. Observations:                 143   AIC:                             57.00\n",
      "Df Residuals:                     125   BIC:                             110.3\n",
      "Df Model:                          17                                         \n",
      "Covariance Type:            nonrobust                                         \n",
      "==========================================================================================\n",
      "                             coef    std err          t      P>|t|      [0.025      0.975]\n",
      "------------------------------------------------------------------------------------------\n",
      "const                     -0.6323      0.197     -3.207      0.002      -1.023      -0.242\n",
      "aspiration                -0.2742      0.074     -3.722      0.000      -0.420      -0.128\n",
      "enginesize                 1.1690      0.109     10.745      0.000       0.954       1.384\n",
      "boreratio                 -0.2994      0.068     -4.379      0.000      -0.435      -0.164\n",
      "Car_Company_audi           0.5541      0.232      2.388      0.018       0.095       1.013\n",
      "Car_Company_bmw            1.4403      0.140     10.303      0.000       1.164       1.717\n",
      "Car_Company_buick          0.7448      0.196      3.795      0.000       0.356       1.133\n",
      "Car_Company_mitsubishi    -0.3528      0.106     -3.321      0.001      -0.563      -0.143\n",
      "Car_Company_porsche        1.5842      0.189      8.376      0.000       1.210       1.958\n",
      "Car_Company_saab           0.7615      0.178      4.287      0.000       0.410       1.113\n",
      "Car_Company_volvo          0.8074      0.144      5.605      0.000       0.522       1.092\n",
      "enginetype_l               0.2968      0.126      2.359      0.020       0.048       0.546\n",
      "enginetype_ohcf            0.4434      0.138      3.212      0.002       0.170       0.717\n",
      "enginetype_rotor           1.2149      0.173      7.037      0.000       0.873       1.557\n",
      "cylindernumber_five        0.5117      0.240      2.130      0.035       0.036       0.987\n",
      "cylindernumber_four        0.7266      0.200      3.629      0.000       0.330       1.123\n",
      "cylindernumber_three       0.9674      0.397      2.439      0.016       0.182       1.753\n",
      "cylindernumber_twelve     -1.6327      0.433     -3.770      0.000      -2.490      -0.776\n",
      "cylindernumber_two         1.2149      0.173      7.037      0.000       0.873       1.557\n",
      "==============================================================================\n",
      "Omnibus:                       17.958   Durbin-Watson:                   2.037\n",
      "Prob(Omnibus):                  0.000   Jarque-Bera (JB):               30.700\n",
      "Skew:                           0.603   Prob(JB):                     2.16e-07\n",
      "Kurtosis:                       4.923   Cond. No.                     1.11e+17\n",
      "==============================================================================\n",
      "\n",
      "Warnings:\n",
      "[1] Standard Errors assume that the covariance matrix of the errors is correctly specified.\n",
      "[2] The smallest eigenvalue is 2.74e-32. This might indicate that there are\n",
      "strong multicollinearity problems or that the design matrix is singular.\n"
     ]
    }
   ],
   "source": [
    "lm = sm.OLS(y_train,X_train_new1).fit()\n",
    "print(lm.summary())"
   ]
  },
  {
   "cell_type": "code",
   "execution_count": 66,
   "metadata": {},
   "outputs": [
    {
     "data": {
      "text/html": [
       "<div>\n",
       "<style scoped>\n",
       "    .dataframe tbody tr th:only-of-type {\n",
       "        vertical-align: middle;\n",
       "    }\n",
       "\n",
       "    .dataframe tbody tr th {\n",
       "        vertical-align: top;\n",
       "    }\n",
       "\n",
       "    .dataframe thead th {\n",
       "        text-align: right;\n",
       "    }\n",
       "</style>\n",
       "<table border=\"1\" class=\"dataframe\">\n",
       "  <thead>\n",
       "    <tr style=\"text-align: right;\">\n",
       "      <th></th>\n",
       "      <th>Features</th>\n",
       "      <th>VIF</th>\n",
       "    </tr>\n",
       "  </thead>\n",
       "  <tbody>\n",
       "    <tr>\n",
       "      <th>18</th>\n",
       "      <td>cylindernumber_two</td>\n",
       "      <td>inf</td>\n",
       "    </tr>\n",
       "    <tr>\n",
       "      <th>13</th>\n",
       "      <td>enginetype_rotor</td>\n",
       "      <td>inf</td>\n",
       "    </tr>\n",
       "    <tr>\n",
       "      <th>0</th>\n",
       "      <td>const</td>\n",
       "      <td>71.66</td>\n",
       "    </tr>\n",
       "    <tr>\n",
       "      <th>2</th>\n",
       "      <td>enginesize</td>\n",
       "      <td>21.82</td>\n",
       "    </tr>\n",
       "    <tr>\n",
       "      <th>15</th>\n",
       "      <td>cylindernumber_four</td>\n",
       "      <td>14.17</td>\n",
       "    </tr>\n",
       "    <tr>\n",
       "      <th>3</th>\n",
       "      <td>boreratio</td>\n",
       "      <td>8.62</td>\n",
       "    </tr>\n",
       "    <tr>\n",
       "      <th>14</th>\n",
       "      <td>cylindernumber_five</td>\n",
       "      <td>6.27</td>\n",
       "    </tr>\n",
       "    <tr>\n",
       "      <th>4</th>\n",
       "      <td>Car_Company_audi</td>\n",
       "      <td>3.35</td>\n",
       "    </tr>\n",
       "    <tr>\n",
       "      <th>12</th>\n",
       "      <td>enginetype_ohcf</td>\n",
       "      <td>2.70</td>\n",
       "    </tr>\n",
       "    <tr>\n",
       "      <th>6</th>\n",
       "      <td>Car_Company_buick</td>\n",
       "      <td>2.40</td>\n",
       "    </tr>\n",
       "    <tr>\n",
       "      <th>17</th>\n",
       "      <td>cylindernumber_twelve</td>\n",
       "      <td>2.40</td>\n",
       "    </tr>\n",
       "    <tr>\n",
       "      <th>16</th>\n",
       "      <td>cylindernumber_three</td>\n",
       "      <td>2.01</td>\n",
       "    </tr>\n",
       "    <tr>\n",
       "      <th>11</th>\n",
       "      <td>enginetype_l</td>\n",
       "      <td>1.72</td>\n",
       "    </tr>\n",
       "    <tr>\n",
       "      <th>10</th>\n",
       "      <td>Car_Company_volvo</td>\n",
       "      <td>1.54</td>\n",
       "    </tr>\n",
       "    <tr>\n",
       "      <th>1</th>\n",
       "      <td>aspiration</td>\n",
       "      <td>1.49</td>\n",
       "    </tr>\n",
       "    <tr>\n",
       "      <th>5</th>\n",
       "      <td>Car_Company_bmw</td>\n",
       "      <td>1.45</td>\n",
       "    </tr>\n",
       "    <tr>\n",
       "      <th>8</th>\n",
       "      <td>Car_Company_porsche</td>\n",
       "      <td>1.35</td>\n",
       "    </tr>\n",
       "    <tr>\n",
       "      <th>7</th>\n",
       "      <td>Car_Company_mitsubishi</td>\n",
       "      <td>1.23</td>\n",
       "    </tr>\n",
       "    <tr>\n",
       "      <th>9</th>\n",
       "      <td>Car_Company_saab</td>\n",
       "      <td>1.19</td>\n",
       "    </tr>\n",
       "  </tbody>\n",
       "</table>\n",
       "</div>"
      ],
      "text/plain": [
       "                  Features    VIF\n",
       "18      cylindernumber_two    inf\n",
       "13        enginetype_rotor    inf\n",
       "0                    const  71.66\n",
       "2               enginesize  21.82\n",
       "15     cylindernumber_four  14.17\n",
       "3                boreratio   8.62\n",
       "14     cylindernumber_five   6.27\n",
       "4         Car_Company_audi   3.35\n",
       "12         enginetype_ohcf   2.70\n",
       "6        Car_Company_buick   2.40\n",
       "17   cylindernumber_twelve   2.40\n",
       "16    cylindernumber_three   2.01\n",
       "11            enginetype_l   1.72\n",
       "10       Car_Company_volvo   1.54\n",
       "1               aspiration   1.49\n",
       "5          Car_Company_bmw   1.45\n",
       "8      Car_Company_porsche   1.35\n",
       "7   Car_Company_mitsubishi   1.23\n",
       "9         Car_Company_saab   1.19"
      ]
     },
     "execution_count": 66,
     "metadata": {},
     "output_type": "execute_result"
    }
   ],
   "source": [
    "vif = pd.DataFrame()\n",
    "X = X_train_new1\n",
    "vif['Features'] = X.columns\n",
    "vif['VIF'] = [variance_inflation_factor(X.values, i) for i in range(X.shape[1])]\n",
    "vif['VIF'] = round(vif['VIF'], 2)\n",
    "vif = vif.sort_values(by = \"VIF\", ascending = False)\n",
    "vif"
   ]
  },
  {
   "cell_type": "code",
   "execution_count": 67,
   "metadata": {},
   "outputs": [],
   "source": [
    "# Dropping enginetype_rotor\n",
    "X_train_new2 = X_train_new1.drop('enginetype_rotor',axis=1)"
   ]
  },
  {
   "cell_type": "markdown",
   "metadata": {},
   "source": [
    "## Model 4"
   ]
  },
  {
   "cell_type": "code",
   "execution_count": 68,
   "metadata": {},
   "outputs": [
    {
     "name": "stdout",
     "output_type": "stream",
     "text": [
      "                            OLS Regression Results                            \n",
      "==============================================================================\n",
      "Dep. Variable:                  price   R-squared:                       0.932\n",
      "Model:                            OLS   Adj. R-squared:                  0.923\n",
      "Method:                 Least Squares   F-statistic:                     101.1\n",
      "Date:                Sat, 17 Oct 2020   Prob (F-statistic):           1.85e-64\n",
      "Time:                        16:15:23   Log-Likelihood:                -10.500\n",
      "No. Observations:                 143   AIC:                             57.00\n",
      "Df Residuals:                     125   BIC:                             110.3\n",
      "Df Model:                          17                                         \n",
      "Covariance Type:            nonrobust                                         \n",
      "==========================================================================================\n",
      "                             coef    std err          t      P>|t|      [0.025      0.975]\n",
      "------------------------------------------------------------------------------------------\n",
      "const                     -0.6323      0.197     -3.207      0.002      -1.023      -0.242\n",
      "aspiration                -0.2742      0.074     -3.722      0.000      -0.420      -0.128\n",
      "enginesize                 1.1690      0.109     10.745      0.000       0.954       1.384\n",
      "boreratio                 -0.2994      0.068     -4.379      0.000      -0.435      -0.164\n",
      "Car_Company_audi           0.5541      0.232      2.388      0.018       0.095       1.013\n",
      "Car_Company_bmw            1.4403      0.140     10.303      0.000       1.164       1.717\n",
      "Car_Company_buick          0.7448      0.196      3.795      0.000       0.356       1.133\n",
      "Car_Company_mitsubishi    -0.3528      0.106     -3.321      0.001      -0.563      -0.143\n",
      "Car_Company_porsche        1.5842      0.189      8.376      0.000       1.210       1.958\n",
      "Car_Company_saab           0.7615      0.178      4.287      0.000       0.410       1.113\n",
      "Car_Company_volvo          0.8074      0.144      5.605      0.000       0.522       1.092\n",
      "enginetype_l               0.2968      0.126      2.359      0.020       0.048       0.546\n",
      "enginetype_ohcf            0.4434      0.138      3.212      0.002       0.170       0.717\n",
      "cylindernumber_five        0.5117      0.240      2.130      0.035       0.036       0.987\n",
      "cylindernumber_four        0.7266      0.200      3.629      0.000       0.330       1.123\n",
      "cylindernumber_three       0.9674      0.397      2.439      0.016       0.182       1.753\n",
      "cylindernumber_twelve     -1.6327      0.433     -3.770      0.000      -2.490      -0.776\n",
      "cylindernumber_two         2.4298      0.345      7.037      0.000       1.746       3.113\n",
      "==============================================================================\n",
      "Omnibus:                       17.958   Durbin-Watson:                   2.037\n",
      "Prob(Omnibus):                  0.000   Jarque-Bera (JB):               30.700\n",
      "Skew:                           0.603   Prob(JB):                     2.16e-07\n",
      "Kurtosis:                       4.923   Cond. No.                         43.1\n",
      "==============================================================================\n",
      "\n",
      "Warnings:\n",
      "[1] Standard Errors assume that the covariance matrix of the errors is correctly specified.\n"
     ]
    }
   ],
   "source": [
    "lm = sm.OLS(y_train,X_train_new2).fit()\n",
    "print(lm.summary())"
   ]
  },
  {
   "cell_type": "code",
   "execution_count": 69,
   "metadata": {},
   "outputs": [
    {
     "data": {
      "text/html": [
       "<div>\n",
       "<style scoped>\n",
       "    .dataframe tbody tr th:only-of-type {\n",
       "        vertical-align: middle;\n",
       "    }\n",
       "\n",
       "    .dataframe tbody tr th {\n",
       "        vertical-align: top;\n",
       "    }\n",
       "\n",
       "    .dataframe thead th {\n",
       "        text-align: right;\n",
       "    }\n",
       "</style>\n",
       "<table border=\"1\" class=\"dataframe\">\n",
       "  <thead>\n",
       "    <tr style=\"text-align: right;\">\n",
       "      <th></th>\n",
       "      <th>Features</th>\n",
       "      <th>VIF</th>\n",
       "    </tr>\n",
       "  </thead>\n",
       "  <tbody>\n",
       "    <tr>\n",
       "      <th>0</th>\n",
       "      <td>const</td>\n",
       "      <td>71.66</td>\n",
       "    </tr>\n",
       "    <tr>\n",
       "      <th>2</th>\n",
       "      <td>enginesize</td>\n",
       "      <td>21.82</td>\n",
       "    </tr>\n",
       "    <tr>\n",
       "      <th>14</th>\n",
       "      <td>cylindernumber_four</td>\n",
       "      <td>14.17</td>\n",
       "    </tr>\n",
       "    <tr>\n",
       "      <th>3</th>\n",
       "      <td>boreratio</td>\n",
       "      <td>8.62</td>\n",
       "    </tr>\n",
       "    <tr>\n",
       "      <th>13</th>\n",
       "      <td>cylindernumber_five</td>\n",
       "      <td>6.27</td>\n",
       "    </tr>\n",
       "    <tr>\n",
       "      <th>17</th>\n",
       "      <td>cylindernumber_two</td>\n",
       "      <td>5.98</td>\n",
       "    </tr>\n",
       "    <tr>\n",
       "      <th>4</th>\n",
       "      <td>Car_Company_audi</td>\n",
       "      <td>3.35</td>\n",
       "    </tr>\n",
       "    <tr>\n",
       "      <th>12</th>\n",
       "      <td>enginetype_ohcf</td>\n",
       "      <td>2.70</td>\n",
       "    </tr>\n",
       "    <tr>\n",
       "      <th>6</th>\n",
       "      <td>Car_Company_buick</td>\n",
       "      <td>2.40</td>\n",
       "    </tr>\n",
       "    <tr>\n",
       "      <th>16</th>\n",
       "      <td>cylindernumber_twelve</td>\n",
       "      <td>2.40</td>\n",
       "    </tr>\n",
       "    <tr>\n",
       "      <th>15</th>\n",
       "      <td>cylindernumber_three</td>\n",
       "      <td>2.01</td>\n",
       "    </tr>\n",
       "    <tr>\n",
       "      <th>11</th>\n",
       "      <td>enginetype_l</td>\n",
       "      <td>1.72</td>\n",
       "    </tr>\n",
       "    <tr>\n",
       "      <th>10</th>\n",
       "      <td>Car_Company_volvo</td>\n",
       "      <td>1.54</td>\n",
       "    </tr>\n",
       "    <tr>\n",
       "      <th>1</th>\n",
       "      <td>aspiration</td>\n",
       "      <td>1.49</td>\n",
       "    </tr>\n",
       "    <tr>\n",
       "      <th>5</th>\n",
       "      <td>Car_Company_bmw</td>\n",
       "      <td>1.45</td>\n",
       "    </tr>\n",
       "    <tr>\n",
       "      <th>8</th>\n",
       "      <td>Car_Company_porsche</td>\n",
       "      <td>1.35</td>\n",
       "    </tr>\n",
       "    <tr>\n",
       "      <th>7</th>\n",
       "      <td>Car_Company_mitsubishi</td>\n",
       "      <td>1.23</td>\n",
       "    </tr>\n",
       "    <tr>\n",
       "      <th>9</th>\n",
       "      <td>Car_Company_saab</td>\n",
       "      <td>1.19</td>\n",
       "    </tr>\n",
       "  </tbody>\n",
       "</table>\n",
       "</div>"
      ],
      "text/plain": [
       "                  Features    VIF\n",
       "0                    const  71.66\n",
       "2               enginesize  21.82\n",
       "14     cylindernumber_four  14.17\n",
       "3                boreratio   8.62\n",
       "13     cylindernumber_five   6.27\n",
       "17      cylindernumber_two   5.98\n",
       "4         Car_Company_audi   3.35\n",
       "12         enginetype_ohcf   2.70\n",
       "6        Car_Company_buick   2.40\n",
       "16   cylindernumber_twelve   2.40\n",
       "15    cylindernumber_three   2.01\n",
       "11            enginetype_l   1.72\n",
       "10       Car_Company_volvo   1.54\n",
       "1               aspiration   1.49\n",
       "5          Car_Company_bmw   1.45\n",
       "8      Car_Company_porsche   1.35\n",
       "7   Car_Company_mitsubishi   1.23\n",
       "9         Car_Company_saab   1.19"
      ]
     },
     "execution_count": 69,
     "metadata": {},
     "output_type": "execute_result"
    }
   ],
   "source": [
    "vif = pd.DataFrame()\n",
    "X = X_train_new2\n",
    "vif['Features'] = X.columns\n",
    "vif['VIF'] = [variance_inflation_factor(X.values, i) for i in range(X.shape[1])]\n",
    "vif['VIF'] = round(vif['VIF'], 2)\n",
    "vif = vif.sort_values(by = \"VIF\", ascending = False)\n",
    "vif"
   ]
  },
  {
   "cell_type": "code",
   "execution_count": 70,
   "metadata": {},
   "outputs": [],
   "source": [
    "X_train_new3 = X_train_new2.drop('const',axis=1)"
   ]
  },
  {
   "cell_type": "markdown",
   "metadata": {},
   "source": [
    "## Model 5"
   ]
  },
  {
   "cell_type": "code",
   "execution_count": 71,
   "metadata": {},
   "outputs": [
    {
     "name": "stdout",
     "output_type": "stream",
     "text": [
      "                                 OLS Regression Results                                \n",
      "=======================================================================================\n",
      "Dep. Variable:                  price   R-squared (uncentered):                   0.927\n",
      "Model:                            OLS   Adj. R-squared (uncentered):              0.917\n",
      "Method:                 Least Squares   F-statistic:                              93.58\n",
      "Date:                Sat, 17 Oct 2020   Prob (F-statistic):                    7.08e-63\n",
      "Time:                        16:15:48   Log-Likelihood:                         -16.154\n",
      "No. Observations:                 143   AIC:                                      66.31\n",
      "Df Residuals:                     126   BIC:                                      116.7\n",
      "Df Model:                          17                                                  \n",
      "Covariance Type:            nonrobust                                                  \n",
      "==========================================================================================\n",
      "                             coef    std err          t      P>|t|      [0.025      0.975]\n",
      "------------------------------------------------------------------------------------------\n",
      "aspiration                -0.3758      0.069     -5.453      0.000      -0.512      -0.239\n",
      "enginesize                 0.8708      0.059     14.877      0.000       0.755       0.987\n",
      "boreratio                 -0.1328      0.046     -2.882      0.005      -0.224      -0.042\n",
      "Car_Company_audi           0.6103      0.240      2.546      0.012       0.136       1.085\n",
      "Car_Company_bmw            1.2464      0.131      9.543      0.000       0.988       1.505\n",
      "Car_Company_buick          0.8647      0.200      4.331      0.000       0.470       1.260\n",
      "Car_Company_mitsubishi    -0.3620      0.110     -3.290      0.001      -0.580      -0.144\n",
      "Car_Company_porsche        1.4012      0.187      7.499      0.000       1.031       1.771\n",
      "Car_Company_saab           0.6092      0.177      3.435      0.001       0.258       0.960\n",
      "Car_Company_volvo          0.5849      0.131      4.472      0.000       0.326       0.844\n",
      "enginetype_l               0.1996      0.126      1.578      0.117      -0.051       0.450\n",
      "enginetype_ohcf            0.1672      0.112      1.496      0.137      -0.054       0.388\n",
      "cylindernumber_five        0.0408      0.197      0.207      0.836      -0.349       0.431\n",
      "cylindernumber_four        0.1363      0.082      1.669      0.098      -0.025       0.298\n",
      "cylindernumber_three       0.3213      0.354      0.907      0.366      -0.379       1.022\n",
      "cylindernumber_twelve     -0.8441      0.369     -2.285      0.024      -1.575      -0.113\n",
      "cylindernumber_two         1.5015      0.195      7.696      0.000       1.115       1.888\n",
      "==============================================================================\n",
      "Omnibus:                       21.052   Durbin-Watson:                   2.058\n",
      "Prob(Omnibus):                  0.000   Jarque-Bera (JB):               45.250\n",
      "Skew:                           0.611   Prob(JB):                     1.49e-10\n",
      "Kurtosis:                       5.470   Cond. No.                         23.0\n",
      "==============================================================================\n",
      "\n",
      "Warnings:\n",
      "[1] Standard Errors assume that the covariance matrix of the errors is correctly specified.\n"
     ]
    }
   ],
   "source": [
    "#M5\n",
    "lm = sm.OLS(y_train,X_train_new3).fit()\n",
    "print(lm.summary())"
   ]
  },
  {
   "cell_type": "code",
   "execution_count": 72,
   "metadata": {},
   "outputs": [],
   "source": [
    "#Dropping cylindernumber_five\n",
    "X_train_new4 = X_train_new3.drop('cylindernumber_five',axis=1)"
   ]
  },
  {
   "cell_type": "markdown",
   "metadata": {},
   "source": [
    "## Model 6"
   ]
  },
  {
   "cell_type": "code",
   "execution_count": 73,
   "metadata": {},
   "outputs": [
    {
     "name": "stdout",
     "output_type": "stream",
     "text": [
      "                                 OLS Regression Results                                \n",
      "=======================================================================================\n",
      "Dep. Variable:                  price   R-squared (uncentered):                   0.927\n",
      "Model:                            OLS   Adj. R-squared (uncentered):              0.917\n",
      "Method:                 Least Squares   F-statistic:                              100.2\n",
      "Date:                Sat, 17 Oct 2020   Prob (F-statistic):                    7.10e-64\n",
      "Time:                        16:15:59   Log-Likelihood:                         -16.178\n",
      "No. Observations:                 143   AIC:                                      64.36\n",
      "Df Residuals:                     127   BIC:                                      111.8\n",
      "Df Model:                          16                                                  \n",
      "Covariance Type:            nonrobust                                                  \n",
      "==========================================================================================\n",
      "                             coef    std err          t      P>|t|      [0.025      0.975]\n",
      "------------------------------------------------------------------------------------------\n",
      "aspiration                -0.3748      0.068     -5.473      0.000      -0.510      -0.239\n",
      "enginesize                 0.8690      0.058     15.081      0.000       0.755       0.983\n",
      "boreratio                 -0.1318      0.046     -2.887      0.005      -0.222      -0.041\n",
      "Car_Company_audi           0.6514      0.134      4.870      0.000       0.387       0.916\n",
      "Car_Company_bmw            1.2471      0.130      9.589      0.000       0.990       1.504\n",
      "Car_Company_buick          0.8915      0.151      5.888      0.000       0.592       1.191\n",
      "Car_Company_mitsubishi    -0.3611      0.110     -3.297      0.001      -0.578      -0.144\n",
      "Car_Company_porsche        1.4016      0.186      7.530      0.000       1.033       1.770\n",
      "Car_Company_saab           0.6089      0.177      3.447      0.001       0.259       0.959\n",
      "Car_Company_volvo          0.5852      0.130      4.491      0.000       0.327       0.843\n",
      "enginetype_l               0.2002      0.126      1.589      0.115      -0.049       0.449\n",
      "enginetype_ohcf            0.1660      0.111      1.492      0.138      -0.054       0.386\n",
      "cylindernumber_four        0.1348      0.081      1.663      0.099      -0.026       0.295\n",
      "cylindernumber_three       0.3183      0.352      0.903      0.368      -0.379       1.016\n",
      "cylindernumber_twelve     -0.8369      0.366     -2.284      0.024      -1.562      -0.112\n",
      "cylindernumber_two         1.4980      0.194      7.737      0.000       1.115       1.881\n",
      "==============================================================================\n",
      "Omnibus:                       21.169   Durbin-Watson:                   2.060\n",
      "Prob(Omnibus):                  0.000   Jarque-Bera (JB):               45.371\n",
      "Skew:                           0.616   Prob(JB):                     1.41e-10\n",
      "Kurtosis:                       5.469   Cond. No.                         22.6\n",
      "==============================================================================\n",
      "\n",
      "Warnings:\n",
      "[1] Standard Errors assume that the covariance matrix of the errors is correctly specified.\n"
     ]
    }
   ],
   "source": [
    "lm = sm.OLS(y_train,X_train_new4).fit()\n",
    "print(lm.summary())"
   ]
  },
  {
   "cell_type": "code",
   "execution_count": 74,
   "metadata": {},
   "outputs": [],
   "source": [
    "#Dropping cylindernumber_three\n",
    "X_train_new5 = X_train_new4.drop('cylindernumber_three',axis=1)"
   ]
  },
  {
   "cell_type": "markdown",
   "metadata": {},
   "source": [
    "## Model 7"
   ]
  },
  {
   "cell_type": "code",
   "execution_count": 75,
   "metadata": {},
   "outputs": [
    {
     "name": "stdout",
     "output_type": "stream",
     "text": [
      "                                 OLS Regression Results                                \n",
      "=======================================================================================\n",
      "Dep. Variable:                  price   R-squared (uncentered):                   0.926\n",
      "Model:                            OLS   Adj. R-squared (uncentered):              0.917\n",
      "Method:                 Least Squares   F-statistic:                              107.0\n",
      "Date:                Sat, 17 Oct 2020   Prob (F-statistic):                    1.01e-64\n",
      "Time:                        16:16:29   Log-Likelihood:                         -16.636\n",
      "No. Observations:                 143   AIC:                                      63.27\n",
      "Df Residuals:                     128   BIC:                                      107.7\n",
      "Df Model:                          15                                                  \n",
      "Covariance Type:            nonrobust                                                  \n",
      "==========================================================================================\n",
      "                             coef    std err          t      P>|t|      [0.025      0.975]\n",
      "------------------------------------------------------------------------------------------\n",
      "aspiration                -0.3528      0.064     -5.516      0.000      -0.479      -0.226\n",
      "enginesize                 0.8526      0.055     15.600      0.000       0.744       0.961\n",
      "boreratio                 -0.1331      0.046     -2.919      0.004      -0.223      -0.043\n",
      "Car_Company_audi           0.6411      0.133      4.814      0.000       0.378       0.905\n",
      "Car_Company_bmw            1.2491      0.130      9.613      0.000       0.992       1.506\n",
      "Car_Company_buick          0.9153      0.149      6.143      0.000       0.620       1.210\n",
      "Car_Company_mitsubishi    -0.3421      0.107     -3.185      0.002      -0.555      -0.130\n",
      "Car_Company_porsche        1.4138      0.185      7.622      0.000       1.047       1.781\n",
      "Car_Company_saab           0.6260      0.176      3.566      0.001       0.279       0.973\n",
      "Car_Company_volvo          0.6051      0.128      4.716      0.000       0.351       0.859\n",
      "enginetype_l               0.2571      0.109      2.359      0.020       0.041       0.473\n",
      "enginetype_ohcf            0.1734      0.111      1.565      0.120      -0.046       0.393\n",
      "cylindernumber_four        0.1027      0.073      1.411      0.161      -0.041       0.247\n",
      "cylindernumber_twelve     -0.7770      0.360     -2.158      0.033      -1.490      -0.065\n",
      "cylindernumber_two         1.4551      0.188      7.758      0.000       1.084       1.826\n",
      "==============================================================================\n",
      "Omnibus:                       21.955   Durbin-Watson:                   2.041\n",
      "Prob(Omnibus):                  0.000   Jarque-Bera (JB):               48.276\n",
      "Skew:                           0.631   Prob(JB):                     3.29e-11\n",
      "Kurtosis:                       5.551   Cond. No.                         20.4\n",
      "==============================================================================\n",
      "\n",
      "Warnings:\n",
      "[1] Standard Errors assume that the covariance matrix of the errors is correctly specified.\n"
     ]
    }
   ],
   "source": [
    "lm = sm.OLS(y_train,X_train_new5).fit()\n",
    "print(lm.summary())"
   ]
  },
  {
   "cell_type": "code",
   "execution_count": 76,
   "metadata": {},
   "outputs": [],
   "source": [
    "# Dropping cylindernumber_four\n",
    "X_train_new6 = X_train_new5.drop('cylindernumber_four',axis=1)"
   ]
  },
  {
   "cell_type": "markdown",
   "metadata": {},
   "source": [
    "## Model 8"
   ]
  },
  {
   "cell_type": "code",
   "execution_count": 77,
   "metadata": {},
   "outputs": [
    {
     "name": "stdout",
     "output_type": "stream",
     "text": [
      "                                 OLS Regression Results                                \n",
      "=======================================================================================\n",
      "Dep. Variable:                  price   R-squared (uncentered):                   0.925\n",
      "Model:                            OLS   Adj. R-squared (uncentered):              0.917\n",
      "Method:                 Least Squares   F-statistic:                              113.6\n",
      "Date:                Sat, 17 Oct 2020   Prob (F-statistic):                    2.47e-65\n",
      "Time:                        16:16:50   Log-Likelihood:                         -17.739\n",
      "No. Observations:                 143   AIC:                                      63.48\n",
      "Df Residuals:                     129   BIC:                                      105.0\n",
      "Df Model:                          14                                                  \n",
      "Covariance Type:            nonrobust                                                  \n",
      "==========================================================================================\n",
      "                             coef    std err          t      P>|t|      [0.025      0.975]\n",
      "------------------------------------------------------------------------------------------\n",
      "aspiration                -0.2766      0.034     -8.046      0.000      -0.345      -0.209\n",
      "enginesize                 0.8057      0.044     18.493      0.000       0.720       0.892\n",
      "boreratio                 -0.1116      0.043     -2.587      0.011      -0.197      -0.026\n",
      "Car_Company_audi           0.6174      0.133      4.655      0.000       0.355       0.880\n",
      "Car_Company_bmw            1.2300      0.130      9.481      0.000       0.973       1.487\n",
      "Car_Company_buick          0.9563      0.147      6.519      0.000       0.666       1.247\n",
      "Car_Company_mitsubishi    -0.2764      0.097     -2.844      0.005      -0.469      -0.084\n",
      "Car_Company_porsche        1.3936      0.186      7.506      0.000       1.026       1.761\n",
      "Car_Company_saab           0.6541      0.175      3.736      0.000       0.308       1.001\n",
      "Car_Company_volvo          0.6352      0.127      5.001      0.000       0.384       0.887\n",
      "enginetype_l               0.3017      0.105      2.881      0.005       0.094       0.509\n",
      "enginetype_ohcf            0.1668      0.111      1.501      0.136      -0.053       0.387\n",
      "cylindernumber_twelve     -0.6417      0.348     -1.842      0.068      -1.331       0.048\n",
      "cylindernumber_two         1.3168      0.161      8.203      0.000       0.999       1.634\n",
      "==============================================================================\n",
      "Omnibus:                       23.276   Durbin-Watson:                   2.063\n",
      "Prob(Omnibus):                  0.000   Jarque-Bera (JB):               52.723\n",
      "Skew:                           0.661   Prob(JB):                     3.56e-12\n",
      "Kurtosis:                       5.665   Cond. No.                         18.5\n",
      "==============================================================================\n",
      "\n",
      "Warnings:\n",
      "[1] Standard Errors assume that the covariance matrix of the errors is correctly specified.\n"
     ]
    }
   ],
   "source": [
    "lm = sm.OLS(y_train,X_train_new6).fit()\n",
    "print(lm.summary())"
   ]
  },
  {
   "cell_type": "code",
   "execution_count": 78,
   "metadata": {},
   "outputs": [],
   "source": [
    "# Dropping enginetype_ohcf\n",
    "X_train_new7 = X_train_new6.drop('enginetype_ohcf',axis=1)"
   ]
  },
  {
   "cell_type": "markdown",
   "metadata": {},
   "source": [
    "## Model 9"
   ]
  },
  {
   "cell_type": "code",
   "execution_count": 79,
   "metadata": {},
   "outputs": [
    {
     "name": "stdout",
     "output_type": "stream",
     "text": [
      "                                 OLS Regression Results                                \n",
      "=======================================================================================\n",
      "Dep. Variable:                  price   R-squared (uncentered):                   0.924\n",
      "Model:                            OLS   Adj. R-squared (uncentered):              0.916\n",
      "Method:                 Least Squares   F-statistic:                              121.0\n",
      "Date:                Sat, 17 Oct 2020   Prob (F-statistic):                    6.64e-66\n",
      "Time:                        16:17:01   Log-Likelihood:                         -18.976\n",
      "No. Observations:                 143   AIC:                                      63.95\n",
      "Df Residuals:                     130   BIC:                                      102.5\n",
      "Df Model:                          13                                                  \n",
      "Covariance Type:            nonrobust                                                  \n",
      "==========================================================================================\n",
      "                             coef    std err          t      P>|t|      [0.025      0.975]\n",
      "------------------------------------------------------------------------------------------\n",
      "aspiration                -0.2554      0.031     -8.111      0.000      -0.318      -0.193\n",
      "enginesize                 0.7772      0.039     19.733      0.000       0.699       0.855\n",
      "boreratio                 -0.0721      0.034     -2.100      0.038      -0.140      -0.004\n",
      "Car_Company_audi           0.6325      0.133      4.760      0.000       0.370       0.895\n",
      "Car_Company_bmw            1.2191      0.130      9.367      0.000       0.962       1.477\n",
      "Car_Company_buick          0.9686      0.147      6.581      0.000       0.677       1.260\n",
      "Car_Company_mitsubishi    -0.2811      0.098     -2.881      0.005      -0.474      -0.088\n",
      "Car_Company_porsche        1.3824      0.186      7.416      0.000       1.014       1.751\n",
      "Car_Company_saab           0.6019      0.172      3.491      0.001       0.261       0.943\n",
      "Car_Company_volvo          0.5956      0.125      4.771      0.000       0.349       0.843\n",
      "enginetype_l               0.2626      0.102      2.577      0.011       0.061       0.464\n",
      "cylindernumber_twelve     -0.5577      0.346     -1.614      0.109      -1.241       0.126\n",
      "cylindernumber_two         1.2555      0.156      8.049      0.000       0.947       1.564\n",
      "==============================================================================\n",
      "Omnibus:                       20.148   Durbin-Watson:                   2.052\n",
      "Prob(Omnibus):                  0.000   Jarque-Bera (JB):               42.113\n",
      "Skew:                           0.593   Prob(JB):                     7.17e-10\n",
      "Kurtosis:                       5.379   Cond. No.                         18.2\n",
      "==============================================================================\n",
      "\n",
      "Warnings:\n",
      "[1] Standard Errors assume that the covariance matrix of the errors is correctly specified.\n"
     ]
    }
   ],
   "source": [
    "lm = sm.OLS(y_train,X_train_new7).fit()\n",
    "print(lm.summary())"
   ]
  },
  {
   "cell_type": "code",
   "execution_count": 80,
   "metadata": {},
   "outputs": [],
   "source": [
    "# Dropping cylindernumber_twelve\n",
    "X_train_new8 = X_train_new7.drop('cylindernumber_twelve',axis=1)"
   ]
  },
  {
   "cell_type": "markdown",
   "metadata": {},
   "source": [
    "## Model 10"
   ]
  },
  {
   "cell_type": "code",
   "execution_count": 81,
   "metadata": {},
   "outputs": [
    {
     "name": "stdout",
     "output_type": "stream",
     "text": [
      "                                 OLS Regression Results                                \n",
      "=======================================================================================\n",
      "Dep. Variable:                  price   R-squared (uncentered):                   0.922\n",
      "Model:                            OLS   Adj. R-squared (uncentered):              0.915\n",
      "Method:                 Least Squares   F-statistic:                              129.3\n",
      "Date:                Sat, 17 Oct 2020   Prob (F-statistic):                    2.05e-66\n",
      "Time:                        16:17:13   Log-Likelihood:                         -20.395\n",
      "No. Observations:                 143   AIC:                                      64.79\n",
      "Df Residuals:                     131   BIC:                                      100.3\n",
      "Df Model:                          12                                                  \n",
      "Covariance Type:            nonrobust                                                  \n",
      "==========================================================================================\n",
      "                             coef    std err          t      P>|t|      [0.025      0.975]\n",
      "------------------------------------------------------------------------------------------\n",
      "aspiration                -0.2645      0.031     -8.488      0.000      -0.326      -0.203\n",
      "enginesize                 0.7436      0.034     22.095      0.000       0.677       0.810\n",
      "boreratio                 -0.0621      0.034     -1.828      0.070      -0.129       0.005\n",
      "Car_Company_audi           0.6508      0.133      4.886      0.000       0.387       0.914\n",
      "Car_Company_bmw            1.2597      0.128      9.805      0.000       1.006       1.514\n",
      "Car_Company_buick          1.0280      0.143      7.172      0.000       0.744       1.312\n",
      "Car_Company_mitsubishi    -0.2806      0.098     -2.858      0.005      -0.475      -0.086\n",
      "Car_Company_porsche        1.4172      0.186      7.608      0.000       1.049       1.786\n",
      "Car_Company_saab           0.5958      0.173      3.436      0.001       0.253       0.939\n",
      "Car_Company_volvo          0.6059      0.125      4.830      0.000       0.358       0.854\n",
      "enginetype_l               0.2619      0.103      2.554      0.012       0.059       0.465\n",
      "cylindernumber_two         1.2206      0.155      7.853      0.000       0.913       1.528\n",
      "==============================================================================\n",
      "Omnibus:                       23.903   Durbin-Watson:                   2.069\n",
      "Prob(Omnibus):                  0.000   Jarque-Bera (JB):               49.777\n",
      "Skew:                           0.715   Prob(JB):                     1.55e-11\n",
      "Kurtosis:                       5.512   Cond. No.                         10.1\n",
      "==============================================================================\n",
      "\n",
      "Warnings:\n",
      "[1] Standard Errors assume that the covariance matrix of the errors is correctly specified.\n"
     ]
    }
   ],
   "source": [
    "lm = sm.OLS(y_train,X_train_new8).fit()\n",
    "print(lm.summary())"
   ]
  },
  {
   "cell_type": "code",
   "execution_count": 82,
   "metadata": {},
   "outputs": [],
   "source": [
    "# Dropping boreratio\n",
    "X_train_new9 = X_train_new8.drop('boreratio',axis=1)"
   ]
  },
  {
   "cell_type": "markdown",
   "metadata": {},
   "source": [
    "## Model 11"
   ]
  },
  {
   "cell_type": "code",
   "execution_count": 83,
   "metadata": {},
   "outputs": [
    {
     "name": "stdout",
     "output_type": "stream",
     "text": [
      "                                 OLS Regression Results                                \n",
      "=======================================================================================\n",
      "Dep. Variable:                  price   R-squared (uncentered):                   0.920\n",
      "Model:                            OLS   Adj. R-squared (uncentered):              0.913\n",
      "Method:                 Least Squares   F-statistic:                              138.3\n",
      "Date:                Sat, 17 Oct 2020   Prob (F-statistic):                    8.78e-67\n",
      "Time:                        16:17:27   Log-Likelihood:                         -22.196\n",
      "No. Observations:                 143   AIC:                                      66.39\n",
      "Df Residuals:                     132   BIC:                                      98.98\n",
      "Df Model:                          11                                                  \n",
      "Covariance Type:            nonrobust                                                  \n",
      "==========================================================================================\n",
      "                             coef    std err          t      P>|t|      [0.025      0.975]\n",
      "------------------------------------------------------------------------------------------\n",
      "aspiration                -0.2519      0.031     -8.217      0.000      -0.313      -0.191\n",
      "enginesize                 0.7132      0.030     24.173      0.000       0.655       0.772\n",
      "Car_Company_audi           0.6838      0.133      5.136      0.000       0.420       0.947\n",
      "Car_Company_bmw            1.2476      0.129      9.638      0.000       0.992       1.504\n",
      "Car_Company_buick          1.0279      0.145      7.108      0.000       0.742       1.314\n",
      "Car_Company_mitsubishi    -0.2761      0.099     -2.789      0.006      -0.472      -0.080\n",
      "Car_Company_porsche        1.3125      0.179      7.340      0.000       0.959       1.666\n",
      "Car_Company_saab           0.5289      0.171      3.093      0.002       0.191       0.867\n",
      "Car_Company_volvo          0.5467      0.122      4.472      0.000       0.305       0.789\n",
      "enginetype_l               0.2082      0.099      2.101      0.038       0.012       0.404\n",
      "cylindernumber_two         1.1635      0.154      7.575      0.000       0.860       1.467\n",
      "==============================================================================\n",
      "Omnibus:                       19.708   Durbin-Watson:                   2.045\n",
      "Prob(Omnibus):                  0.000   Jarque-Bera (JB):               36.666\n",
      "Skew:                           0.627   Prob(JB):                     1.09e-08\n",
      "Kurtosis:                       5.141   Cond. No.                         7.59\n",
      "==============================================================================\n",
      "\n",
      "Warnings:\n",
      "[1] Standard Errors assume that the covariance matrix of the errors is correctly specified.\n"
     ]
    }
   ],
   "source": [
    "lm = sm.OLS(y_train,X_train_new9).fit()\n",
    "print(lm.summary())"
   ]
  },
  {
   "cell_type": "markdown",
   "metadata": {},
   "source": [
    "#### All features seem to be significant"
   ]
  },
  {
   "cell_type": "code",
   "execution_count": 84,
   "metadata": {},
   "outputs": [
    {
     "data": {
      "text/html": [
       "<div>\n",
       "<style scoped>\n",
       "    .dataframe tbody tr th:only-of-type {\n",
       "        vertical-align: middle;\n",
       "    }\n",
       "\n",
       "    .dataframe tbody tr th {\n",
       "        vertical-align: top;\n",
       "    }\n",
       "\n",
       "    .dataframe thead th {\n",
       "        text-align: right;\n",
       "    }\n",
       "</style>\n",
       "<table border=\"1\" class=\"dataframe\">\n",
       "  <thead>\n",
       "    <tr style=\"text-align: right;\">\n",
       "      <th></th>\n",
       "      <th>Features</th>\n",
       "      <th>VIF</th>\n",
       "    </tr>\n",
       "  </thead>\n",
       "  <tbody>\n",
       "    <tr>\n",
       "      <th>1</th>\n",
       "      <td>enginesize</td>\n",
       "      <td>1.44</td>\n",
       "    </tr>\n",
       "    <tr>\n",
       "      <th>0</th>\n",
       "      <td>aspiration</td>\n",
       "      <td>1.27</td>\n",
       "    </tr>\n",
       "    <tr>\n",
       "      <th>4</th>\n",
       "      <td>Car_Company_buick</td>\n",
       "      <td>1.21</td>\n",
       "    </tr>\n",
       "    <tr>\n",
       "      <th>3</th>\n",
       "      <td>Car_Company_bmw</td>\n",
       "      <td>1.16</td>\n",
       "    </tr>\n",
       "    <tr>\n",
       "      <th>6</th>\n",
       "      <td>Car_Company_porsche</td>\n",
       "      <td>1.11</td>\n",
       "    </tr>\n",
       "    <tr>\n",
       "      <th>10</th>\n",
       "      <td>cylindernumber_two</td>\n",
       "      <td>1.09</td>\n",
       "    </tr>\n",
       "    <tr>\n",
       "      <th>8</th>\n",
       "      <td>Car_Company_volvo</td>\n",
       "      <td>1.04</td>\n",
       "    </tr>\n",
       "    <tr>\n",
       "      <th>2</th>\n",
       "      <td>Car_Company_audi</td>\n",
       "      <td>1.02</td>\n",
       "    </tr>\n",
       "    <tr>\n",
       "      <th>5</th>\n",
       "      <td>Car_Company_mitsubishi</td>\n",
       "      <td>1.02</td>\n",
       "    </tr>\n",
       "    <tr>\n",
       "      <th>9</th>\n",
       "      <td>enginetype_l</td>\n",
       "      <td>1.02</td>\n",
       "    </tr>\n",
       "    <tr>\n",
       "      <th>7</th>\n",
       "      <td>Car_Company_saab</td>\n",
       "      <td>1.01</td>\n",
       "    </tr>\n",
       "  </tbody>\n",
       "</table>\n",
       "</div>"
      ],
      "text/plain": [
       "                  Features   VIF\n",
       "1               enginesize  1.44\n",
       "0               aspiration  1.27\n",
       "4        Car_Company_buick  1.21\n",
       "3          Car_Company_bmw  1.16\n",
       "6      Car_Company_porsche  1.11\n",
       "10      cylindernumber_two  1.09\n",
       "8        Car_Company_volvo  1.04\n",
       "2         Car_Company_audi  1.02\n",
       "5   Car_Company_mitsubishi  1.02\n",
       "9             enginetype_l  1.02\n",
       "7         Car_Company_saab  1.01"
      ]
     },
     "execution_count": 84,
     "metadata": {},
     "output_type": "execute_result"
    }
   ],
   "source": [
    "vif = pd.DataFrame()\n",
    "X = X_train_new9\n",
    "vif['Features'] = X.columns\n",
    "vif['VIF'] = [variance_inflation_factor(X.values, i) for i in range(X.shape[1])]\n",
    "vif['VIF'] = round(vif['VIF'], 2)\n",
    "vif = vif.sort_values(by = \"VIF\", ascending = False)\n",
    "vif"
   ]
  },
  {
   "cell_type": "markdown",
   "metadata": {},
   "source": [
    "#### All features have low VIF. There are no multicollinearity in the model"
   ]
  },
  {
   "cell_type": "markdown",
   "metadata": {},
   "source": [
    "# There seems to be no multicollinearity and the R squared , Adjusted R squared, F-statistics values are good. So model 11 is the final model."
   ]
  },
  {
   "cell_type": "markdown",
   "metadata": {},
   "source": [
    "# Residual Analysis of Train data"
   ]
  },
  {
   "cell_type": "code",
   "execution_count": 85,
   "metadata": {},
   "outputs": [],
   "source": [
    "y_train_price = lm.predict(X_train_new9)"
   ]
  },
  {
   "cell_type": "code",
   "execution_count": 86,
   "metadata": {
    "scrolled": true
   },
   "outputs": [
    {
     "data": {
      "text/plain": [
       "Text(0.5, 0, 'Errors')"
      ]
     },
     "execution_count": 86,
     "metadata": {},
     "output_type": "execute_result"
    },
    {
     "data": {
      "image/png": "[encoded data removed]",
      "text/plain": [
       "<Figure size 432x288 with 1 Axes>"
      ]
     },
     "metadata": {
      "needs_background": "light"
     },
     "output_type": "display_data"
    }
   ],
   "source": [
    "fig = plt.figure()\n",
    "sns.distplot((y_train - y_train_price), bins = 20)\n",
    "fig.suptitle('Error Terms', fontsize = 20)                  # Plot heading \n",
    "plt.xlabel('Errors', fontsize = 18)   "
   ]
  },
  {
   "cell_type": "markdown",
   "metadata": {},
   "source": [
    "## Errors are normally distributed"
   ]
  },
  {
   "cell_type": "code",
   "execution_count": null,
   "metadata": {},
   "outputs": [],
   "source": []
  },
  {
   "cell_type": "markdown",
   "metadata": {},
   "source": [
    "# Now Making Prediction on Test dataset"
   ]
  },
  {
   "cell_type": "code",
   "execution_count": 87,
   "metadata": {},
   "outputs": [],
   "source": [
    "#Scaling Test Dataset\n",
    "df_test[num_var] = scaler.transform(df_test[num_var])"
   ]
  },
  {
   "cell_type": "code",
   "execution_count": 88,
   "metadata": {},
   "outputs": [],
   "source": [
    "# Dividing into X_test and Y_test\n",
    "y_test = df_test.pop('price')\n",
    "X_test = df_test"
   ]
  },
  {
   "cell_type": "code",
   "execution_count": 89,
   "metadata": {},
   "outputs": [],
   "source": [
    "X_test_new = X_test[X_train_new9.columns]"
   ]
  },
  {
   "cell_type": "code",
   "execution_count": 90,
   "metadata": {},
   "outputs": [],
   "source": [
    "y_pred = lm.predict(X_test_new)"
   ]
  },
  {
   "cell_type": "markdown",
   "metadata": {},
   "source": [
    "# Calculating the r2 score for test data"
   ]
  },
  {
   "cell_type": "code",
   "execution_count": 91,
   "metadata": {},
   "outputs": [
    {
     "data": {
      "text/plain": [
       "0.9141744034620286"
      ]
     },
     "execution_count": 91,
     "metadata": {},
     "output_type": "execute_result"
    }
   ],
   "source": [
    "from sklearn.metrics import r2_score\n",
    "r2_score(y_test, y_pred)"
   ]
  },
  {
   "cell_type": "code",
   "execution_count": 92,
   "metadata": {},
   "outputs": [
    {
     "data": {
      "text/plain": [
       "Text(0, 0.5, 'y_pred')"
      ]
     },
     "execution_count": 92,
     "metadata": {},
     "output_type": "execute_result"
    },
    {
     "data": {
      "image/png": "[encoded data removed]",
      "text/plain": [
       "<Figure size 432x288 with 1 Axes>"
      ]
     },
     "metadata": {
      "needs_background": "light"
     },
     "output_type": "display_data"
    }
   ],
   "source": [
    "# Plotting y_test and y_pred to understand the spread.\n",
    "fig = plt.figure()\n",
    "plt.scatter(y_test,y_pred)\n",
    "fig.suptitle('y_test vs y_pred', fontsize=20)              \n",
    "plt.xlabel('y_test', fontsize=18)                          \n",
    "plt.ylabel('y_pred', fontsize=16)"
   ]
  },
  {
   "cell_type": "markdown",
   "metadata": {},
   "source": [
    "## So enginesize, aspiration, Car_Company_buick, Car_Company_bmw, Car_Company_porsche, cylindernumber_two, Car_Company_volvo, Car_Company_audi, Car_Company_mitsubishi, enginetype_l and Car_Company_saab are the best predictors.\n",
    "\n",
    "### This means the companies Buick, BMW, Porsche, Volvo, Audi, Mitsubishi and Saab are the main competitors. Enginesize, aspiration, cylindernumber_two and enginetype-I are the most important features to set the car prices."
   ]
  },
  {
   "cell_type": "code",
   "execution_count": null,
   "metadata": {},
   "outputs": [],
   "source": []
  }
 ],
 "metadata": {
  "kernelspec": {
   "display_name": "Python 3",
   "language": "python",
   "name": "python3"
  },
  "language_info": {
   "codemirror_mode": {
    "name": "ipython",
    "version": 3
   },
   "file_extension": ".py",
   "mimetype": "text/x-python",
   "name": "python",
   "nbconvert_exporter": "python",
   "pygments_lexer": "ipython3",
   "version": "3.8.3"
  }
 },
 "nbformat": 4,
 "nbformat_minor": 4
}
